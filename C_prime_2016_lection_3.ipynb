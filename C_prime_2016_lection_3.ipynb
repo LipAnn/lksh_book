{
 "cells": [
  {
   "cell_type": "markdown",
   "metadata": {},
   "source": [
    "# Код к лекции 3"
   ]
  },
  {
   "cell_type": "markdown",
   "metadata": {},
   "source": [
    "Пример на чтение из файла и запись в файл v.1"
   ]
  },
  {
   "cell_type": "code",
   "execution_count": null,
   "metadata": {
    "collapsed": true
   },
   "outputs": [],
   "source": [
    "fin = open(\"input.txt\", \"r\")\n",
    "fout = open(\"output.txt\", \"w\")\n",
    "\n",
    "for line in fin.readlines():\n",
    "    print(line , file=fout)\n",
    "    \n",
    "fin.close()\n",
    "fout.close()"
   ]
  },
  {
   "cell_type": "markdown",
   "metadata": {},
   "source": [
    "Пример на чтение из файла и запись в файл v.2"
   ]
  },
  {
   "cell_type": "code",
   "execution_count": null,
   "metadata": {
    "collapsed": false
   },
   "outputs": [],
   "source": [
    "fin = open(\"input.txt\", \"r\")\n",
    "fout = open(\"output.txt\", \"w\")\n",
    "\n",
    "for line in fin.readlines():\n",
    "    print(line.strip(), file=fout)\n",
    "    \n",
    "fin.close()\n",
    "fout.close()"
   ]
  },
  {
   "cell_type": "markdown",
   "metadata": {},
   "source": [
    "Линейный поиск индекса заданного числа в списке. v.1"
   ]
  },
  {
   "cell_type": "code",
   "execution_count": null,
   "metadata": {
    "collapsed": true
   },
   "outputs": [],
   "source": [
    "fin = open(\"input.txt\", \"r\")\n",
    "fout = open(\"output.txt\", \"w\")\n",
    "\n",
    "numbers = [int(i) for i in fin.readline().strip().split()]\n",
    "# вводим числа, записанные через пробел в файле\n",
    "element = int(fin.readline().strip())\n",
    "pos = -1\n",
    "for i in range(len(numbers)):\n",
    "    if numbers[i] == element:\n",
    "        pos = i\n",
    "        break\n",
    "fout.write(str(pos) + \"\\n\")\n",
    "\"\"\" хорошим тоном считается ставить перевод\n",
    "строки даже у последней строчки\n",
    "выходного файла \"\"\"\n",
    "\n",
    "fin.close()\n",
    "fout.close()"
   ]
  },
  {
   "cell_type": "markdown",
   "metadata": {},
   "source": [
    "Линейный поиск индекса заданного числа в списке. v.2"
   ]
  },
  {
   "cell_type": "code",
   "execution_count": 5,
   "metadata": {
    "collapsed": false
   },
   "outputs": [
    {
     "name": "stdout",
     "output_type": "stream",
     "text": [
      "3 4 5 6\n",
      "3\n",
      "0\n"
     ]
    }
   ],
   "source": [
    "fin = open(\"input.txt\", \"r\")\n",
    "fout = open(\"output.txt\", \"w\")\n",
    "\n",
    "numbers = [int(i) for i in fin.readline().strip().split()]\n",
    "element = int(fin.readline().strip())\n",
    "\n",
    "for i in range(len(numbers)):\n",
    "    if numbers[i] == element:\n",
    "        pos = i\n",
    "        break\n",
    "else:\n",
    "    pos = -1\n",
    "fout.write(str(pos) + \"\\n\")\n",
    "\n",
    "fin.close()\n",
    "fout.close()"
   ]
  },
  {
   "cell_type": "markdown",
   "metadata": {},
   "source": [
    "Поиск минимума в списке чисел:"
   ]
  },
  {
   "cell_type": "code",
   "execution_count": 6,
   "metadata": {
    "collapsed": false
   },
   "outputs": [
    {
     "name": "stdout",
     "output_type": "stream",
     "text": [
      "4 6 2 7 8 3 1 -1 3 0\n",
      "Min el = -1\n"
     ]
    }
   ],
   "source": [
    "numbers = [int(i) for i in input().split()]\n",
    "\n",
    "if not numbers:\n",
    "    print(\"Empty list!\")\n",
    "else:\n",
    "    min_el = numbers[0]\n",
    "    for el in numbers:\n",
    "        if el < min_el:\n",
    "            min_el = el\n",
    "    print(\"Min el = %d\" % min_el)"
   ]
  },
  {
   "cell_type": "markdown",
   "metadata": {},
   "source": [
    "Поиск индекса первого вхождения минимума: v.1"
   ]
  },
  {
   "cell_type": "code",
   "execution_count": 9,
   "metadata": {
    "collapsed": false
   },
   "outputs": [
    {
     "name": "stdout",
     "output_type": "stream",
     "text": [
      "1 1 1 1 5 6 8 \n",
      "Min idx = 0\n"
     ]
    }
   ],
   "source": [
    "numbers = [int(i) for i in input().split()]\n",
    "\n",
    "if not numbers:\n",
    "    print(-1) # нет элементов\n",
    "else:\n",
    "    min_el = numbers[0]\n",
    "    min_idx = 0\n",
    "    for i in range(len(numbers)):\n",
    "        if numbers[i] < min_el:\n",
    "            min_el = numbers[i]\n",
    "            min_idx = i\n",
    "    print(\"Min idx = %d\" % min_idx)"
   ]
  },
  {
   "cell_type": "markdown",
   "metadata": {},
   "source": [
    "Поиск индекса первого вхождения минимума: v.2"
   ]
  },
  {
   "cell_type": "code",
   "execution_count": 10,
   "metadata": {
    "collapsed": false
   },
   "outputs": [
    {
     "name": "stdout",
     "output_type": "stream",
     "text": [
      "3 56 2 5 7\n",
      "Min idx = 2\n"
     ]
    }
   ],
   "source": [
    "numbers = [int(i) for i in input().split()]\n",
    "\n",
    "if not numbers:\n",
    "    print(-1) # нет элементов\n",
    "else:\n",
    "    min_el = numbers[0]\n",
    "    min_idx = 0\n",
    "    for i, el in enumerate(numbers):\n",
    "        if el < min_el:\n",
    "            min_el = el\n",
    "            min_idx = i\n",
    "    print(\"Min idx = %d\" % min_idx)"
   ]
  },
  {
   "cell_type": "markdown",
   "metadata": {},
   "source": [
    "Поиск двух минимумов одним линейным проходом:"
   ]
  },
  {
   "cell_type": "code",
   "execution_count": 17,
   "metadata": {
    "collapsed": false
   },
   "outputs": [
    {
     "name": "stdout",
     "output_type": "stream",
     "text": [
      "3 6 2 6 8 4 3 5\n",
      "there is two mins =  2 3\n"
     ]
    }
   ],
   "source": [
    "numbers = [int(i) for i in input().split()]\n",
    "\n",
    "\n",
    "if not numbers:\n",
    "    print(\"list is empty\")\n",
    "elif len(numbers) == 1:\n",
    "    first_min = numbers[0]\n",
    "    print(\"there is one min = \", first_min)\n",
    "else:\n",
    "    first_min, second_min = float(\"+inf\"), float(\"+inf\")\n",
    "    for element in numbers:\n",
    "        if element <= first_min:\n",
    "            second_min, first_min = first_min, element\n",
    "        elif element < second_min:\n",
    "            second_min = element\n",
    "    print(\"there is two mins = \", first_min, second_min)"
   ]
  },
  {
   "cell_type": "markdown",
   "metadata": {},
   "source": [
    "Сортировка пузырьком. Взятo отсюда: https://github.com/citxx/sis-algorithms/blob/master/square-sorts/square-sorts-pure.py"
   ]
  },
  {
   "cell_type": "code",
   "execution_count": null,
   "metadata": {
    "collapsed": true
   },
   "outputs": [],
   "source": [
    "# Сортировка пузырьком. O(n^2) сравнений. O(n^2) перемещений.\n",
    "# O(1) дополнительной памяти. Стабильная.\n",
    "def bubble_sort(a):\n",
    "    for k in range(1, len(a)):  # После k-ой итерации \"всплывут\" k максимальных\n",
    "                                # элементов.\n",
    "        for i in range(len(a) - k):  # Не рассматриваем последние k элементов,\n",
    "                                     # так как они уже на месте\n",
    "            if a[i] > a[i + 1]:\n",
    "                a[i], a[i + 1] = a[i + 1], a[i]"
   ]
  },
  {
   "cell_type": "markdown",
   "metadata": {},
   "source": [
    "Сортировка выбором минимума. Взятo отсюда: https://github.com/citxx/sis-algorithms/blob/master/square-sorts/square-sorts-pure.py"
   ]
  },
  {
   "cell_type": "code",
   "execution_count": 21,
   "metadata": {
    "collapsed": true
   },
   "outputs": [],
   "source": [
    "# Сортировка выбором минимума. O(n^2) сравнений. O(n) перемещений.\n",
    "# O(1) дополнительной памяти. Нестабильная.\n",
    "def choice_sort(a):\n",
    "    for i in range(len(a) - 1):\n",
    "        min_index = i\n",
    "        for j in range(i, len(a)):\n",
    "            if a[j] < a[min_index]:\n",
    "                min_index = j\n",
    "        a[min_index], a[i] = a[i], a[min_index]"
   ]
  },
  {
   "cell_type": "markdown",
   "metadata": {},
   "source": [
    "Второй вариант того же самого:"
   ]
  },
  {
   "cell_type": "code",
   "execution_count": null,
   "metadata": {
    "collapsed": true
   },
   "outputs": [],
   "source": [
    "# Сортировка выбором минимума. O(n^2) сравнений. O(n) перемещений.\n",
    "# O(1) дополнительной памяти. Нестабильная.\n",
    "def choice_sort(a):\n",
    "    for i in range(len(a) - 1):\n",
    "        min_index = i + a[i:].index(min(a[i:]))\n",
    "        a[min_index], a[i] = a[i], a[min_index]"
   ]
  },
  {
   "cell_type": "markdown",
   "metadata": {},
   "source": [
    "Сортировка вставками: Взято отсюда: https://github.com/citxx/sis-algorithms/blob/master/square-sorts/square-sorts-pure.py"
   ]
  },
  {
   "cell_type": "code",
   "execution_count": null,
   "metadata": {
    "collapsed": true
   },
   "outputs": [],
   "source": [
    "# Сортировка вставками. O(n^2) сравнений. O(n^2) перемещений.\n",
    "# O(1) дополнительной памяти. Cтабильная.\n",
    "#Количество сравнений можно довести до\n",
    "# O(n * log(n)), если использовать бинпоиск места вставки.\n",
    "def insertion_sort(a):\n",
    "    for i in range(1, len(a)):  # На i-ой итерации список a[:i] отсортирован.\n",
    "        j = i\n",
    "        while j > 0 and a[j - 1] > a[j]:\n",
    "            a[j], a[j - 1] = a[j - 1], a[j]\n",
    "            j -= 1"
   ]
  },
  {
   "cell_type": "markdown",
   "metadata": {},
   "source": [
    "Сортировка подсчетом, разрешены только неотрицательные элементы:"
   ]
  },
  {
   "cell_type": "code",
   "execution_count": 23,
   "metadata": {
    "collapsed": false
   },
   "outputs": [
    {
     "name": "stdout",
     "output_type": "stream",
     "text": [
      "3 56 3 3 4 4 44 4  2 \n",
      "2 3 3 3 4 4 4 44 56 "
     ]
    }
   ],
   "source": [
    "numbers = [int(i) for i in input().split()]\n",
    "counts = [0] * (max(numbers) + 1)\n",
    "\n",
    "for element in numbers:\n",
    "    counts[element] += 1\n",
    "    \n",
    "for i in range(len(counts)):\n",
    "    for j in range(counts[i]):\n",
    "        print(i, end=' ')\n",
    "\n",
    "idx = 0\n",
    "for i in range(len(counts)):\n",
    "    for j in range(counts[i]):\n",
    "        numbers[idx] = i\n",
    "        idx += 1"
   ]
  },
  {
   "cell_type": "markdown",
   "metadata": {},
   "source": [
    "Сортировка подсчетом, разрешены любые элементы:"
   ]
  },
  {
   "cell_type": "code",
   "execution_count": 25,
   "metadata": {
    "collapsed": false
   },
   "outputs": [
    {
     "name": "stdout",
     "output_type": "stream",
     "text": [
      "4 5 6 -1 -4 -3 -6\n",
      "-6 -4 -3 -1 4 5 6 "
     ]
    }
   ],
   "source": [
    "numbers = [int(i) for i in input().split()]\n",
    "shift = min(numbers)\n",
    "counts = [0] * (max(numbers) - shift + 1)\n",
    "for element in numbers:\n",
    "    counts[element - shift] += 1\n",
    "    \n",
    "for i in range(len(counts)):\n",
    "    for j in range(counts[i]):\n",
    "        print(i + shift, end = ' ')\n",
    "        # прибавляем обратно на то, \n",
    "        # насколько сдвинули\n",
    "\n",
    "idx = 0\n",
    "for i in range(len(counts)):\n",
    "    for j in range(counts[i]):\n",
    "        numbers[idx] = i + shift\n",
    "        idx += 1"
   ]
  },
  {
   "cell_type": "markdown",
   "metadata": {},
   "source": [
    "Циклический сдвиг списка на k элементов вправо:"
   ]
  },
  {
   "cell_type": "code",
   "execution_count": 31,
   "metadata": {
    "collapsed": false
   },
   "outputs": [
    {
     "name": "stdout",
     "output_type": "stream",
     "text": [
      "4 5 3\n",
      "3\n",
      "[4, 5, 3]\n"
     ]
    }
   ],
   "source": [
    "numbers = [int(i) for i in input().split()]\n",
    "k = int(input())\n",
    "\n",
    "k %= len(numbers) #на случай, если сдвигаем больше, чем на длину списка.\n",
    "numbers = (numbers[len(numbers) - k:] + \n",
    "          numbers[:len(numbers) - k])\n",
    "print(numbers)"
   ]
  },
  {
   "cell_type": "code",
   "execution_count": null,
   "metadata": {
    "collapsed": true
   },
   "outputs": [],
   "source": []
  }
 ],
 "metadata": {
  "kernelspec": {
   "display_name": "Python 3",
   "language": "python",
   "name": "python3"
  },
  "language_info": {
   "codemirror_mode": {
    "name": "ipython",
    "version": 3
   },
   "file_extension": ".py",
   "mimetype": "text/x-python",
   "name": "python",
   "nbconvert_exporter": "python",
   "pygments_lexer": "ipython3",
   "version": "3.4.3"
  }
 },
 "nbformat": 4,
 "nbformat_minor": 0
}
