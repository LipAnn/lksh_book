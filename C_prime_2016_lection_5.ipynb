{
 "cells": [
  {
   "cell_type": "markdown",
   "metadata": {},
   "source": [
    "# Код к лекции 5"
   ]
  },
  {
   "cell_type": "markdown",
   "metadata": {},
   "source": [
    "Merge sort, взято отсюда: https://github.com/citxx/sis-algorithms/blob/master/merge-sort.py"
   ]
  },
  {
   "cell_type": "code",
   "execution_count": null,
   "metadata": {
    "collapsed": true
   },
   "outputs": [],
   "source": [
    "def merge_sort(a, left=0, right=None, storage=None):\n",
    "    if right is None:\n",
    "        right = len(a)\n",
    "    if storage is None:\n",
    "        storage = a[:]\n",
    "\n",
    "    if right - left > 1:\n",
    "        middle = (left + right) // 2\n",
    "        merge_sort(a, left, middle, storage)\n",
    "        merge_sort(a, middle, right, storage)\n",
    "        merge(a, left, middle, right, storage)\n",
    "\n",
    "\n",
    "def merge(a, left, middle, right, storage):\n",
    "    i, j = left, middle\n",
    "    for k in range(left, right):\n",
    "        if i < middle and (j == right or a[i] <= a[j]):\n",
    "            storage[k] = a[i]\n",
    "            i += 1\n",
    "        else:\n",
    "            storage[k] = a[j]\n",
    "            j += 1\n",
    "\n",
    "    for k in range(left, right):\n",
    "        a[k] = storage[k]"
   ]
  },
  {
   "cell_type": "markdown",
   "metadata": {},
   "source": [
    "Функция sort"
   ]
  },
  {
   "cell_type": "code",
   "execution_count": 2,
   "metadata": {
    "collapsed": false
   },
   "outputs": [
    {
     "name": "stdout",
     "output_type": "stream",
     "text": [
      "[0, 1, 4, 4, 5, 7, 7]\n"
     ]
    }
   ],
   "source": [
    "a = [4, 5, 7, 1, 7, 4, 0]\n",
    "a.sort()\n",
    "print(a)"
   ]
  },
  {
   "cell_type": "markdown",
   "metadata": {},
   "source": [
    "Параметр key"
   ]
  },
  {
   "cell_type": "code",
   "execution_count": 5,
   "metadata": {
    "collapsed": false
   },
   "outputs": [
    {
     "name": "stdout",
     "output_type": "stream",
     "text": [
      "['a', 'e', 'sd', 'abc', 'sdf']\n"
     ]
    }
   ],
   "source": [
    "a = [\"abc\", \"sdf\", \"a\", \"e\", \"sd\"]\n",
    "a.sort(key=len)\n",
    "print(a)"
   ]
  },
  {
   "cell_type": "code",
   "execution_count": 6,
   "metadata": {
    "collapsed": false
   },
   "outputs": [
    {
     "name": "stdout",
     "output_type": "stream",
     "text": [
      "['a', 'e', 'sd', 'sdf', 'abc']\n"
     ]
    }
   ],
   "source": [
    "a = [\"sdf\", \"a\", \"e\", \"sd\", \"abc\"]\n",
    "a.sort(key=len)\n",
    "print(a)"
   ]
  },
  {
   "cell_type": "code",
   "execution_count": 7,
   "metadata": {
    "collapsed": false
   },
   "outputs": [
    {
     "name": "stdout",
     "output_type": "stream",
     "text": [
      "[0, 1, -2, 3, -6, 6, -7, -11]\n"
     ]
    }
   ],
   "source": [
    "a = [-6, -2, -7, 3, 6, 1, 0, -11]\n",
    "a.sort(key=abs)\n",
    "print(a)"
   ]
  },
  {
   "cell_type": "code",
   "execution_count": 11,
   "metadata": {
    "collapsed": false
   },
   "outputs": [
    {
     "name": "stdout",
     "output_type": "stream",
     "text": [
      "[(5, 6, -200), (3, -100), (1, 2, 1)]\n"
     ]
    }
   ],
   "source": [
    "a = [(1, 2, 1), (3, -100), (5, 6, -200)]\n",
    "a.sort(key=sum)\n",
    "print(a)"
   ]
  },
  {
   "cell_type": "code",
   "execution_count": 13,
   "metadata": {
    "collapsed": false
   },
   "outputs": [
    {
     "name": "stdout",
     "output_type": "stream",
     "text": [
      "[(-200, -600), (-100,), (1, 2, 100500)]\n"
     ]
    }
   ],
   "source": [
    "a = [(1, 2, 100500), (-100,), (-200, -600)]\n",
    "a.sort(key=min)\n",
    "print(a)"
   ]
  },
  {
   "cell_type": "code",
   "execution_count": 18,
   "metadata": {
    "collapsed": false
   },
   "outputs": [
    {
     "name": "stdout",
     "output_type": "stream",
     "text": [
      "[10, 1000, 200, 30]\n"
     ]
    }
   ],
   "source": [
    "a = [200, 30, 1000, 10]\n",
    "a.sort(key=str)\n",
    "print(a)"
   ]
  },
  {
   "cell_type": "code",
   "execution_count": 19,
   "metadata": {
    "collapsed": false
   },
   "outputs": [
    {
     "name": "stdout",
     "output_type": "stream",
     "text": [
      "['ABCD', 'abcd']\n"
     ]
    }
   ],
   "source": [
    "a = [\"abcd\", \"ABCD\"]\n",
    "a.sort()\n",
    "print(a)"
   ]
  },
  {
   "cell_type": "code",
   "execution_count": 26,
   "metadata": {
    "collapsed": false
   },
   "outputs": [
    {
     "name": "stdout",
     "output_type": "stream",
     "text": [
      "65\n",
      "A\n"
     ]
    }
   ],
   "source": [
    "c = \"A\"\n",
    "code = ord(c)\n",
    "print(code)\n",
    "print(chr(code))"
   ]
  },
  {
   "cell_type": "code",
   "execution_count": 27,
   "metadata": {
    "collapsed": false
   },
   "outputs": [
    {
     "name": "stdout",
     "output_type": "stream",
     "text": [
      "['abcd', 'CDFG', 'ZWA']\n"
     ]
    }
   ],
   "source": [
    "a = [\"CDFG\", \"ZWA\", \"abcd\"]\n",
    "a.sort(key=str.lower)\n",
    "print(a)"
   ]
  },
  {
   "cell_type": "code",
   "execution_count": 28,
   "metadata": {
    "collapsed": false
   },
   "outputs": [
    {
     "name": "stdout",
     "output_type": "stream",
     "text": [
      "[10, 8, 6, 5, 2, 1]\n",
      "[10, 8, 6, 5, 2, 1]\n"
     ]
    }
   ],
   "source": [
    "a = [6, 2, 1, 5, 8, 10]\n",
    "a.sort()\n",
    "a.reverse()\n",
    "print(a)\n",
    "\n",
    "a = [6, 2, 1, 5, 8, 10]\n",
    "a.sort(reverse=True)\n",
    "print(a)"
   ]
  },
  {
   "cell_type": "markdown",
   "metadata": {},
   "source": [
    "Рекурсивный перебор всех подмножеств. Взято отсюда: https://github.com/citxx/sis-algorithms/blob/master/backtracking.py"
   ]
  },
  {
   "cell_type": "code",
   "execution_count": 31,
   "metadata": {
    "collapsed": false
   },
   "outputs": [
    {
     "name": "stdout",
     "output_type": "stream",
     "text": [
      "[]\n",
      "[3]\n",
      "[2]\n",
      "[2, 3]\n",
      "[1]\n",
      "[1, 3]\n",
      "[1, 2]\n",
      "[1, 2, 3]\n"
     ]
    }
   ],
   "source": [
    "def get_all_subsets(superset, i=0, chosen=None):\n",
    "    if chosen is None:\n",
    "        chosen = []\n",
    "\n",
    "    if i == len(superset):\n",
    "        print(chosen)\n",
    "    else:\n",
    "        get_all_subsets(superset, i + 1, chosen)\n",
    "\n",
    "        chosen.append(superset[i])\n",
    "        get_all_subsets(superset, i + 1, chosen)\n",
    "        chosen.pop()\n",
    "        \n",
    "\n",
    "get_all_subsets([1, 2, 3])"
   ]
  },
  {
   "cell_type": "code",
   "execution_count": null,
   "metadata": {
    "collapsed": true
   },
   "outputs": [],
   "source": []
  }
 ],
 "metadata": {
  "kernelspec": {
   "display_name": "Python 3",
   "language": "python",
   "name": "python3"
  },
  "language_info": {
   "codemirror_mode": {
    "name": "ipython",
    "version": 3
   },
   "file_extension": ".py",
   "mimetype": "text/x-python",
   "name": "python",
   "nbconvert_exporter": "python",
   "pygments_lexer": "ipython3",
   "version": "3.4.3"
  }
 },
 "nbformat": 4,
 "nbformat_minor": 0
}
