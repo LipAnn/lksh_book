{
 "cells": [
  {
   "cell_type": "markdown",
   "metadata": {},
   "source": [
    "# Код к лекции 6"
   ]
  },
  {
   "cell_type": "markdown",
   "metadata": {},
   "source": [
    "Бинпоиск. Взято отсюда: https://github.com/citxx/sis-algorithms/blob/master/binary-search.py"
   ]
  },
  {
   "cell_type": "code",
   "execution_count": null,
   "metadata": {
    "collapsed": true
   },
   "outputs": [],
   "source": [
    "def binary_search(array, x):\n",
    "    # Инвариант array[left] < x == True, array[right] < x == False\n",
    "    # Обращений к -1 и к len(array)-ому элементам никогда не происходит\n",
    "    left, right = -1, len(array)\n",
    "    while left + 1 < right:  # Заканчиваем, когда left и right идут друг за\n",
    "                             # другом.\n",
    "        middle = (left + right) // 2  # Никогда не равен ни left, ни right.\n",
    "        if array[middle] < x:  # Сохраняем инвариант\n",
    "            # \n",
    "            left = middle\n",
    "        else:\n",
    "            right = middle\n",
    "return right # Вернуть можно как left, так и right, в зависимости от задачи."
   ]
  },
  {
   "cell_type": "markdown",
   "metadata": {},
   "source": [
    "Бинпоиск по ответу на примере \"Очень легкая задача\":"
   ]
  },
  {
   "cell_type": "code",
   "execution_count": 4,
   "metadata": {
    "collapsed": false
   },
   "outputs": [
    {
     "name": "stdout",
     "output_type": "stream",
     "text": [
      "5 1 2\n",
      "4\n"
     ]
    }
   ],
   "source": [
    "def count_pages(a, b, k):\n",
    "    return k // a + k // b\n",
    "\n",
    "def binary_search(a, b, n):\n",
    "    left, right = -1, max(a, b) * n + 1\n",
    "    while left + 1 < right:\n",
    "        middle = (left + right) // 2\n",
    "        if count_pages(a, b, middle) < n:\n",
    "            left = middle\n",
    "        else:\n",
    "            right = middle\n",
    "            \n",
    "    return right\n",
    "\n",
    "n, a, b = [int(i) for i in input().split()]\n",
    "all_time = min(a, b) \n",
    "# печатаем одну страницу на самом быстром принтере\n",
    "all_time += binary_search(a, b, n - 1)\n",
    "print(all_time)"
   ]
  },
  {
   "cell_type": "markdown",
   "metadata": {},
   "source": [
    "Пример двумерного списка:"
   ]
  },
  {
   "cell_type": "code",
   "execution_count": 7,
   "metadata": {
    "collapsed": false
   },
   "outputs": [
    {
     "name": "stdout",
     "output_type": "stream",
     "text": [
      "[1, 2, 3, 4]\n",
      "[5, 6, 7, 8]\n",
      "1\n",
      "12\n"
     ]
    }
   ],
   "source": [
    "a = [[1, 2, 3, 4], [5, 6, 7, 8], [9, 10, 11, 12]]\n",
    "print(a[0])\n",
    "print(a[1])\n",
    "print(a[0][0])\n",
    "print(a[2][3])"
   ]
  },
  {
   "cell_type": "code",
   "execution_count": 8,
   "metadata": {
    "collapsed": false
   },
   "outputs": [
    {
     "ename": "IndexError",
     "evalue": "list index out of range",
     "output_type": "error",
     "traceback": [
      "\u001b[1;31m---------------------------------------------------------------------------\u001b[0m",
      "\u001b[1;31mIndexError\u001b[0m                                Traceback (most recent call last)",
      "\u001b[1;32m<ipython-input-8-dcc45c5ce130>\u001b[0m in \u001b[0;36m<module>\u001b[1;34m()\u001b[0m\n\u001b[1;32m----> 1\u001b[1;33m \u001b[0mprint\u001b[0m\u001b[1;33m(\u001b[0m\u001b[0ma\u001b[0m\u001b[1;33m[\u001b[0m\u001b[1;36m5\u001b[0m\u001b[1;33m]\u001b[0m\u001b[1;33m)\u001b[0m\u001b[1;33m\u001b[0m\u001b[0m\n\u001b[0m",
      "\u001b[1;31mIndexError\u001b[0m: list index out of range"
     ]
    }
   ],
   "source": [
    "print(a[5])"
   ]
  },
  {
   "cell_type": "code",
   "execution_count": 9,
   "metadata": {
    "collapsed": false
   },
   "outputs": [
    {
     "ename": "IndexError",
     "evalue": "list index out of range",
     "output_type": "error",
     "traceback": [
      "\u001b[1;31m---------------------------------------------------------------------------\u001b[0m",
      "\u001b[1;31mIndexError\u001b[0m                                Traceback (most recent call last)",
      "\u001b[1;32m<ipython-input-9-9aadac79de0f>\u001b[0m in \u001b[0;36m<module>\u001b[1;34m()\u001b[0m\n\u001b[1;32m----> 1\u001b[1;33m \u001b[0mprint\u001b[0m\u001b[1;33m(\u001b[0m\u001b[0ma\u001b[0m\u001b[1;33m[\u001b[0m\u001b[1;36m0\u001b[0m\u001b[1;33m]\u001b[0m\u001b[1;33m[\u001b[0m\u001b[1;36m100\u001b[0m\u001b[1;33m]\u001b[0m\u001b[1;33m)\u001b[0m\u001b[1;33m\u001b[0m\u001b[0m\n\u001b[0m",
      "\u001b[1;31mIndexError\u001b[0m: list index out of range"
     ]
    }
   ],
   "source": [
    "print(a[0][100])"
   ]
  },
  {
   "cell_type": "code",
   "execution_count": 10,
   "metadata": {
    "collapsed": false
   },
   "outputs": [
    {
     "name": "stdout",
     "output_type": "stream",
     "text": [
      "[1]\n",
      "1\n",
      "3\n"
     ]
    }
   ],
   "source": [
    "a = [[1], [2, 3], [4, 5, 6]]\n",
    "print(a[0])\n",
    "print(a[0][0])\n",
    "print(a[1][1])"
   ]
  },
  {
   "cell_type": "markdown",
   "metadata": {},
   "source": [
    "Вывод двумерного списка построчно и поэлементно:"
   ]
  },
  {
   "cell_type": "code",
   "execution_count": 15,
   "metadata": {
    "collapsed": false
   },
   "outputs": [
    {
     "name": "stdout",
     "output_type": "stream",
     "text": [
      "[1]\n",
      "[4, 5]\n",
      "[6, 7, 8]\n",
      "1 \n",
      "4 5 \n",
      "6 7 8 \n",
      "1 \n",
      "4 5 \n",
      "6 7 8 \n"
     ]
    }
   ],
   "source": [
    "a = [[1], [4, 5], [6, 7, 8]]\n",
    "\n",
    "# вывод строк построчно\n",
    "for elem in a:\n",
    "    print(elem)\n",
    "\n",
    "# вывод элементов построчно\n",
    "for i in range(len(a)):\n",
    "    for j in range(len(a[i])):\n",
    "        # длина каждой строки может быть разной\n",
    "        print(a[i][j], end=' ')\n",
    "    print()\n",
    "    # без параметров просто выводит перевод строки\n",
    "\n",
    "for elem in a:\n",
    "    for j in range(len(elem)):\n",
    "        print(elem[j], end=' ')\n",
    "    print()"
   ]
  },
  {
   "cell_type": "markdown",
   "metadata": {},
   "source": [
    "Неправильная инициализация двумерного массива нулями и последствия:"
   ]
  },
  {
   "cell_type": "code",
   "execution_count": 16,
   "metadata": {
    "collapsed": false
   },
   "outputs": [
    {
     "name": "stdout",
     "output_type": "stream",
     "text": [
      "4 5\n",
      "[[0, 0, 0, 0, 0], [0, 0, 0, 0, 0], [0, 0, 0, 0, 0], [0, 0, 0, 0, 0]]\n"
     ]
    }
   ],
   "source": [
    "n, m = [int(i) for i in input().split()]\n",
    "bad = [[0] * m] * n\n",
    "print(bad)"
   ]
  },
  {
   "cell_type": "code",
   "execution_count": 19,
   "metadata": {
    "collapsed": false
   },
   "outputs": [
    {
     "name": "stdout",
     "output_type": "stream",
     "text": [
      "[[1, 0, 0, 0, 0], [1, 0, 0, 0, 0], [1, 0, 0, 0, 0], [1, 0, 0, 0, 0]]\n",
      "140067023904392 140067023904392\n"
     ]
    }
   ],
   "source": [
    "bad[0][0] = 1\n",
    "print(bad)\n",
    "print(id(bad[0]), id(bad[1]))"
   ]
  },
  {
   "cell_type": "markdown",
   "metadata": {},
   "source": [
    "Правильный вариант инициализации двумерного массива нулями:"
   ]
  },
  {
   "cell_type": "code",
   "execution_count": 20,
   "metadata": {
    "collapsed": false
   },
   "outputs": [
    {
     "name": "stdout",
     "output_type": "stream",
     "text": [
      "[[1, 0, 0, 0, 0], [0, 0, 0, 0, 0], [0, 0, 0, 0, 0], [0, 0, 0, 0, 0]]\n",
      "140067015148936 140067086256008\n"
     ]
    }
   ],
   "source": [
    "good = [[0] * m for i in range(n)]\n",
    "good[0][0] = 1\n",
    "print(good)\n",
    "print(id(good[0]), id(good[1]))"
   ]
  },
  {
   "cell_type": "markdown",
   "metadata": {},
   "source": [
    "Операторы is и is not:"
   ]
  },
  {
   "cell_type": "code",
   "execution_count": 23,
   "metadata": {
    "collapsed": false
   },
   "outputs": [
    {
     "name": "stdout",
     "output_type": "stream",
     "text": [
      "True\n",
      "False\n",
      "True\n"
     ]
    }
   ],
   "source": [
    "print(bad[0] is bad[1])\n",
    "print(good[0] is good[1])\n",
    "print(good[0] is not good[1])"
   ]
  },
  {
   "cell_type": "markdown",
   "metadata": {},
   "source": [
    "Считывание двумерного списка c клавиатуры:"
   ]
  },
  {
   "cell_type": "code",
   "execution_count": 22,
   "metadata": {
    "collapsed": false
   },
   "outputs": [
    {
     "name": "stdout",
     "output_type": "stream",
     "text": [
      "2 2\n",
      "1 2\n",
      "3 4\n",
      "[[1, 2], [3, 4]]\n"
     ]
    }
   ],
   "source": [
    "a = []\n",
    "n, m = [int(i) for i in input().split()]\n",
    "for i in range(n):\n",
    "    a.append([int(i) for i in input().split()])\n",
    "print(a)"
   ]
  },
  {
   "cell_type": "markdown",
   "metadata": {},
   "source": [
    "Считывание двумерного списка из файла:"
   ]
  },
  {
   "cell_type": "code",
   "execution_count": null,
   "metadata": {
    "collapsed": true
   },
   "outputs": [],
   "source": [
    "fin = open(\"input.txt\", \"r\")\n",
    "n, m = [int(i) for i in fin.readline().split()]\n",
    "a = []\n",
    "for i in range(n):\n",
    "    a.append([int(i) for i in fin.readline().split()])"
   ]
  }
 ],
 "metadata": {
  "kernelspec": {
   "display_name": "Python 3",
   "language": "python",
   "name": "python3"
  },
  "language_info": {
   "codemirror_mode": {
    "name": "ipython",
    "version": 3
   },
   "file_extension": ".py",
   "mimetype": "text/x-python",
   "name": "python",
   "nbconvert_exporter": "python",
   "pygments_lexer": "ipython3",
   "version": "3.4.3"
  }
 },
 "nbformat": 4,
 "nbformat_minor": 0
}
