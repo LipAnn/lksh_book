{
 "cells": [
  {
   "cell_type": "markdown",
   "metadata": {},
   "source": [
    "# С' 2016"
   ]
  },
  {
   "cell_type": "markdown",
   "metadata": {},
   "source": [
    "Основа этой лекции взята отсюда: https://github.com/feldsherov/lksh_2015"
   ]
  },
  {
   "cell_type": "markdown",
   "metadata": {},
   "source": [
    "## 1. Hello world!"
   ]
  },
  {
   "cell_type": "markdown",
   "metadata": {},
   "source": [
    "Как правило, первая программа которую пишут на языке - это \"Hello world!\". Ниже приведен полный код этой программы на языке Python 3."
   ]
  },
  {
   "cell_type": "code",
   "execution_count": null,
   "metadata": {
    "collapsed": false
   },
   "outputs": [],
   "source": [
    "print(\"Hello world!\")"
   ]
  },
  {
   "cell_type": "markdown",
   "metadata": {},
   "source": [
    "Здесь, мы первый раз сталкиваемся с функцией `print`, это функция вывода. В простейшем случае, чтобы написать что-нибудь на экран нам достаточно написать `print()` и внутри скобочек, то что мы хотим вывести. Каждый такой вызов `print` печатает на отдельной строчке."
   ]
  },
  {
   "cell_type": "markdown",
   "metadata": {},
   "source": [
    "Первый тип данных, с которым мы познакомимся, будет <b> строка </b> (`str`). \"Hello world!\" является строкой."
   ]
  },
  {
   "cell_type": "markdown",
   "metadata": {},
   "source": [
    "Строки в python можно задавать также с помощью одинарных кавычек:"
   ]
  },
  {
   "cell_type": "code",
   "execution_count": null,
   "metadata": {
    "collapsed": true
   },
   "outputs": [],
   "source": [
    "print('Hello world!')"
   ]
  },
  {
   "cell_type": "code",
   "execution_count": null,
   "metadata": {
    "collapsed": false
   },
   "outputs": [],
   "source": [
    "print(10)\n",
    "print(2 + 2)\n",
    "print(11, 11)\n",
    "print(\"Hi!\", 42, 12.5)"
   ]
  },
  {
   "cell_type": "markdown",
   "metadata": {},
   "source": [
    " Какие типы данных есть в коде выше?"
   ]
  },
  {
   "cell_type": "markdown",
   "metadata": {},
   "source": [
    "\n",
    " \n",
    "<b> Целое число</b> (`int`), <b>дробное число </b>(`float`)"
   ]
  },
  {
   "cell_type": "markdown",
   "metadata": {},
   "source": [
    "Язык программирования python является <b>интерпретируемым</b> языком, в отличие от Pascal или C/C++, \n",
    "являющихся <b>компилируемыми</b>. <br>\n",
    "В компилируемых языках написанный код переводится с помощью специальной программы, называемой <b>компилятором</b>, в другой код (процесс перевода --- <b>компиляция</b>), более понятный машине, а затем уже исполняется этот новый код.\n",
    "В интерпретируемых языках написанный код никуда не переводится, а выполняется построчно с помощью специальной программы, называемой <b>интерпретатором</b> (в нашем случае, это <b>python3</b>. Увидели строчку --- выполнили.<br>\n",
    "Как следствие этого, если вы писали до этого на компилируемых языках, то при попытке компиляции вам сразу \n",
    "выдавались все ошибки в коде, если они были. И программа не запускалась до тех пор, пока вы не устраните все ошибки.\n",
    "В интепретируемых языках вы увидите ошибку только в тот момент, когда дойдете до нее. То есть часть кода может выполнится \n",
    "успешно, и выполнение остановится, как только где-нибудь вы допустили ошибку."
   ]
  },
  {
   "cell_type": "markdown",
   "metadata": {},
   "source": [
    "# 2. Переменные"
   ]
  },
  {
   "cell_type": "markdown",
   "metadata": {},
   "source": [
    "Конечно, как в любом языке программирования, в Python есть переменные. Самое первое, что мы научимся делать -- это присваивать переменной значение. Ниже показано, как это сделать."
   ]
  },
  {
   "cell_type": "code",
   "execution_count": null,
   "metadata": {
    "collapsed": false
   },
   "outputs": [],
   "source": [
    "a = 5\n",
    "b = 7 + 3\n",
    "print(\"a + b =\", a + b)"
   ]
  },
  {
   "cell_type": "code",
   "execution_count": null,
   "metadata": {
    "collapsed": false
   },
   "outputs": [],
   "source": [
    "c = a + b\n",
    "print(' \"c =\" ', c)        # что будет напечатано?"
   ]
  },
  {
   "cell_type": "markdown",
   "metadata": {},
   "source": [
    "В этом куске кода выше есть как минимум одна новая вещь: комментарий, он начинается с символа `#` и продолжается до конца строки."
   ]
  },
  {
   "cell_type": "code",
   "execution_count": null,
   "metadata": {
    "collapsed": false
   },
   "outputs": [],
   "source": [
    "some_string = \"string variable\"\n",
    "print(\"some_string =\", some_string)   \n",
    "\n",
    "\"\"\"\n",
    "сами строки \n",
    "не выводятся с кавычками\n",
    "\"\"\""
   ]
  },
  {
   "cell_type": "markdown",
   "metadata": {},
   "source": [
    "В примере выше показано, как можно писать многострочные комментарии. Вместо двойных кавычек также можно использовать одинарные."
   ]
  },
  {
   "cell_type": "markdown",
   "metadata": {},
   "source": [
    "Как вы заметили, в отличие от С/С++ и Pascal, мы при объявлении переменной не задавали ее тип. Все очень просто: в Python у переменной нет типа, подобное свойство языка называют *динамической (утиной) типизацией*. Определение типа переменной основано на свойствах переменной.\n",
    "\n",
    "<i><b>Если это выглядит как утка, плавает как утка и крякает как утка, то это возможно и есть утка.</b></i>\n",
    "\n",
    "Пример ниже демонстрирует это свойство чуть-чуть подробнее."
   ]
  },
  {
   "cell_type": "code",
   "execution_count": null,
   "metadata": {
    "collapsed": false
   },
   "outputs": [],
   "source": [
    "a = 5\n",
    "print(a)    # python сам определяет, что это целое число (int)\n",
    "a = \"A is string now!\"\n",
    "print(a)    # теперь python понимает, что это строка (str)"
   ]
  },
  {
   "cell_type": "markdown",
   "metadata": {},
   "source": [
    "Подобное бывает очень удобно, но вынуждает отдельно следить за тем, какой тип у значения этой переменной. <br>\n",
    "Какие типы у переменных $a$ и $b$? Что будет выведено ниже?"
   ]
  },
  {
   "cell_type": "code",
   "execution_count": null,
   "metadata": {
    "collapsed": false
   },
   "outputs": [],
   "source": [
    "a = 5\n",
    "b = \"5\"\n",
    "print(a + b)"
   ]
  },
  {
   "cell_type": "markdown",
   "metadata": {},
   "source": [
    "Будет ошибка, так как python не позвоялет складывать целые числа и строки с помощью +"
   ]
  },
  {
   "cell_type": "markdown",
   "metadata": {},
   "source": [
    "# 3.Арифметические операции"
   ]
  },
  {
   "cell_type": "markdown",
   "metadata": {},
   "source": [
    "Давайте научимся складывать, умножать, вычитать и производить другие операции с целыми или вещественными числами. Стоит понимать, что целое число и вещественное число это совсем разные вещи для компьютера.\n",
    "\n",
    "Список основных <b>бинарных</b> (требующих 2-ух переменных) арифметических действий, которые вам понадобятся:\n",
    "* Сложение: \\+\n",
    "* Вычитание: \\-\n",
    "* Умножение: \\* \n",
    "* Вещественное деление: /\n",
    "* Целочисленное деление (округление производится вниз): // \n",
    "* Взятие остатка (работает с действительными числами тоже): % \n",
    "* Возведение в степень: \\** "
   ]
  },
  {
   "cell_type": "code",
   "execution_count": null,
   "metadata": {
    "collapsed": false
   },
   "outputs": [],
   "source": [
    "a = 1\n",
    "b = 2\n",
    "print(a + b)"
   ]
  },
  {
   "cell_type": "code",
   "execution_count": null,
   "metadata": {
    "collapsed": false
   },
   "outputs": [],
   "source": [
    "a = 2.0\n",
    "b = 1\n",
    "print(a + b)"
   ]
  },
  {
   "cell_type": "code",
   "execution_count": null,
   "metadata": {
    "collapsed": false
   },
   "outputs": [],
   "source": [
    "a = 4\n",
    "b = 5\n",
    "print(a - b)"
   ]
  },
  {
   "cell_type": "code",
   "execution_count": null,
   "metadata": {
    "collapsed": false
   },
   "outputs": [],
   "source": [
    "a = 3.0\n",
    "b = 4\n",
    "print(a - b)"
   ]
  },
  {
   "cell_type": "code",
   "execution_count": null,
   "metadata": {
    "collapsed": false
   },
   "outputs": [],
   "source": [
    "a = 2\n",
    "b = 4\n",
    "print(a * b)"
   ]
  },
  {
   "cell_type": "code",
   "execution_count": null,
   "metadata": {
    "collapsed": false
   },
   "outputs": [],
   "source": [
    "a = 2.1\n",
    "b = 4\n",
    "print(a * b)"
   ]
  },
  {
   "cell_type": "code",
   "execution_count": null,
   "metadata": {
    "collapsed": false
   },
   "outputs": [],
   "source": [
    "a = -2.1\n",
    "b = 4\n",
    "print(a * b)"
   ]
  },
  {
   "cell_type": "code",
   "execution_count": null,
   "metadata": {
    "collapsed": false
   },
   "outputs": [],
   "source": [
    "a = 10\n",
    "b = 2\n",
    "print(a // b)"
   ]
  },
  {
   "cell_type": "code",
   "execution_count": null,
   "metadata": {
    "collapsed": false
   },
   "outputs": [],
   "source": [
    "a = 10\n",
    "b = 3\n",
    "print(a // b)"
   ]
  },
  {
   "cell_type": "code",
   "execution_count": null,
   "metadata": {
    "collapsed": false
   },
   "outputs": [],
   "source": [
    "a = -10\n",
    "b = 3\n",
    "print(a // b)"
   ]
  },
  {
   "cell_type": "markdown",
   "metadata": {},
   "source": [
    "Стоит заменить, что по математическим правилам x = y $\\cdot$ b + r, где r --- остаток при делении числа x на y и r $\\ge$ 0.\n",
    "Отсюда следует, что y = x // b.\n",
    "В примере выше: -10 = -4 $\\cdot$ 3 + 2"
   ]
  },
  {
   "cell_type": "code",
   "execution_count": null,
   "metadata": {
    "collapsed": false
   },
   "outputs": [],
   "source": [
    "a = 10\n",
    "b = 3\n",
    "print(a / b)"
   ]
  },
  {
   "cell_type": "code",
   "execution_count": null,
   "metadata": {
    "collapsed": false
   },
   "outputs": [],
   "source": [
    "a = 10\n",
    "b = 2\n",
    "print(a / b)"
   ]
  },
  {
   "cell_type": "code",
   "execution_count": null,
   "metadata": {
    "collapsed": false
   },
   "outputs": [],
   "source": [
    "a = 10\n",
    "b = 2\n",
    "print(a % b)"
   ]
  },
  {
   "cell_type": "code",
   "execution_count": null,
   "metadata": {
    "collapsed": false
   },
   "outputs": [],
   "source": [
    "a = 10\n",
    "b = 3\n",
    "print(a % b)"
   ]
  },
  {
   "cell_type": "code",
   "execution_count": null,
   "metadata": {
    "collapsed": false
   },
   "outputs": [],
   "source": [
    "a = 10\n",
    "b = 3.5\n",
    "print(a % b)"
   ]
  },
  {
   "cell_type": "code",
   "execution_count": null,
   "metadata": {
    "collapsed": false
   },
   "outputs": [],
   "source": [
    "a = -10\n",
    "b = 3\n",
    "print(a % b)"
   ]
  },
  {
   "cell_type": "markdown",
   "metadata": {},
   "source": [
    "Здесь как раз видно, что r = 2"
   ]
  },
  {
   "cell_type": "code",
   "execution_count": null,
   "metadata": {
    "collapsed": false
   },
   "outputs": [],
   "source": [
    "a = 2\n",
    "b = 2\n",
    "print(a ** b)"
   ]
  },
  {
   "cell_type": "code",
   "execution_count": null,
   "metadata": {
    "collapsed": false
   },
   "outputs": [],
   "source": [
    "a = -2\n",
    "b = 2\n",
    "print(a ** b)"
   ]
  },
  {
   "cell_type": "code",
   "execution_count": null,
   "metadata": {
    "collapsed": false
   },
   "outputs": [],
   "source": [
    "a = 2\n",
    "b = -2\n",
    "print(a ** b)"
   ]
  },
  {
   "cell_type": "code",
   "execution_count": null,
   "metadata": {
    "collapsed": false
   },
   "outputs": [],
   "source": [
    "a = 2.5\n",
    "b = 2\n",
    "print(a ** b)"
   ]
  },
  {
   "cell_type": "code",
   "execution_count": null,
   "metadata": {
    "collapsed": false
   },
   "outputs": [],
   "source": [
    "a = 4\n",
    "b = 0.5\n",
    "print(a ** b)"
   ]
  },
  {
   "cell_type": "code",
   "execution_count": null,
   "metadata": {
    "collapsed": false
   },
   "outputs": [],
   "source": [
    "a = 4\n",
    "b = 0.5\n",
    "print(a ** b)"
   ]
  },
  {
   "cell_type": "markdown",
   "metadata": {},
   "source": [
    "Кто не знает:\n",
    "$\\sqrt{a} = a^{\\tfrac{1}{2}} = a^{0.5}$"
   ]
  },
  {
   "cell_type": "code",
   "execution_count": null,
   "metadata": {
    "collapsed": false
   },
   "outputs": [],
   "source": [
    "a = -4\n",
    "b = 0.5\n",
    "print(a ** b)"
   ]
  },
  {
   "cell_type": "markdown",
   "metadata": {},
   "source": [
    "В школе наверное рассказывали, что извелкать корни из отрицательных чисел нельзя. Так вот, это не совсем правда,\n",
    "всё-таки можно. Только получим мы не привычные нам <b>вещественные</b> числа, а так называемое <b>комплексное</b> число. \n",
    "Если вдруг вы в программе получили такую страшную бяку, то не пугайтесь :) В частности, это скорее всего означает, что вы взяли корень из отрицательного числа и следует искать ошибку (баг) в коде. В задачах на контесте комплексных чисел не будет."
   ]
  },
  {
   "cell_type": "markdown",
   "metadata": {},
   "source": [
    "Здесь мы также увидели некоторое особенное число 1.2246467991473532e-16. Что же это такое?<br>\n",
    "Запись `<число>`e`<степень>` = `<число>` $\\cdot 10^{\\mbox{<степень>}}$ <br>\n",
    "\n",
    "Чему же равно 1.2246467991473532e-16?"
   ]
  },
  {
   "cell_type": "code",
   "execution_count": null,
   "metadata": {
    "collapsed": false
   },
   "outputs": [],
   "source": [
    "a = -4.2\n",
    "b = -0.5\n",
    "print(a ** b)"
   ]
  },
  {
   "cell_type": "markdown",
   "metadata": {},
   "source": [
    "Так же существует специальный операторы позволяющие сократить записи вида: a = a + 5. Все эти операторы записываются как \"оператор=\", ниже несколько примеров."
   ]
  },
  {
   "cell_type": "code",
   "execution_count": null,
   "metadata": {
    "collapsed": false
   },
   "outputs": [],
   "source": [
    "a = 1\n",
    "a += 2     # эквивалент а = а + 2\n",
    "print(a)"
   ]
  },
  {
   "cell_type": "code",
   "execution_count": null,
   "metadata": {
    "collapsed": false
   },
   "outputs": [],
   "source": [
    "a = 3\n",
    "b = 2\n",
    "a *= b     # эквивалент а = а * b\n",
    "print(a)"
   ]
  },
  {
   "cell_type": "code",
   "execution_count": null,
   "metadata": {
    "collapsed": false
   },
   "outputs": [],
   "source": [
    "a = 3\n",
    "b = 2\n",
    "a **= b    # эквивалент а = а ** b\n",
    "print(a)"
   ]
  },
  {
   "cell_type": "markdown",
   "metadata": {},
   "source": [
    "Отдельно обратим внинамние на то, как пишутся арифметические опреации. Вокруг любой арифметической операции ставится по одному пробелу. Например, `x+y` --- неправильно, а `x + y` --- правильно. Это часть соглашения о стиле написания кода на \n",
    "python PEP8."
   ]
  },
  {
   "cell_type": "markdown",
   "metadata": {},
   "source": [
    "# 4.Операторы if..elif..else"
   ]
  },
  {
   "cell_type": "markdown",
   "metadata": {},
   "source": [
    "Думаю, всем понятно, как работает оператор if, ниже несколько примеров, чтобы разобраться с синтаксисом python."
   ]
  },
  {
   "cell_type": "code",
   "execution_count": null,
   "metadata": {
    "collapsed": false
   },
   "outputs": [],
   "source": [
    "if 5 < 3:\n",
    "    print(\"Правда\")\n",
    "else:\n",
    "    print(\"Ложь\")"
   ]
  },
  {
   "cell_type": "markdown",
   "metadata": {},
   "source": [
    "После условия в `if` или после `else` ставит двоеточие :. Это часть синтаксиса python.\n",
    "Все, что будет выполняться после `if` должно идти с отступом 4 пробела (или один tab, но нельзя их смешивать! используйте пробелы или настройте в среде конвертацию таба в пробелы) относительно предыдущей строки. \n",
    "Аналогично с `else`. Это демонстрирует пример ниже."
   ]
  },
  {
   "cell_type": "code",
   "execution_count": null,
   "metadata": {
    "collapsed": false
   },
   "outputs": [],
   "source": [
    "if 10 > 5:\n",
    "    print(\"1\")\n",
    "    print(\"2\")\n",
    "    if 5 < 4:\n",
    "        print(\"3\")\n",
    "        print(\"4\")\n",
    "    else:\n",
    "        print(\"5\")\n",
    "else:\n",
    "    print(\"6\")\n",
    "        "
   ]
  },
  {
   "cell_type": "markdown",
   "metadata": {},
   "source": [
    "По отступам очень удобно отслеживать, какой `else` к какому `if` относится. \n",
    "Если не ставить двоеточие или отступы, то программа будет выдавать ошибку и не запустится."
   ]
  },
  {
   "cell_type": "code",
   "execution_count": null,
   "metadata": {
    "collapsed": false
   },
   "outputs": [],
   "source": [
    "if 6 > 5\n",
    "    print(\"Пропущено двоеточие!\")"
   ]
  },
  {
   "cell_type": "code",
   "execution_count": null,
   "metadata": {
    "collapsed": false
   },
   "outputs": [],
   "source": [
    "if 6 > 5:\n",
    "print(\"Пропущен отступ!\")"
   ]
  },
  {
   "cell_type": "markdown",
   "metadata": {},
   "source": [
    "Некоторые среды программирования, такие как, Wing Ide, в котором мы будем работать, \n",
    "умеют автоматически расставлять отступы там, где это необходимо."
   ]
  },
  {
   "cell_type": "code",
   "execution_count": null,
   "metadata": {
    "collapsed": false
   },
   "outputs": [],
   "source": [
    "if 9 * 7 ** 2 > 8 * 5 ** 2:\n",
    "    print(\"Правда\")\n",
    "else:\n",
    "    print(\"Ложь\")"
   ]
  },
  {
   "cell_type": "code",
   "execution_count": null,
   "metadata": {
    "collapsed": false
   },
   "outputs": [],
   "source": [
    "if True:\n",
    "    print(\"Ветка if\")\n",
    "else:\n",
    "    print(\"Ветка else\")"
   ]
  },
  {
   "cell_type": "code",
   "execution_count": null,
   "metadata": {
    "collapsed": false
   },
   "outputs": [],
   "source": [
    "if False:\n",
    "    print(\"Ветка if\")\n",
    "else:\n",
    "    print(\"Ветка else\")\n",
    "  "
   ]
  },
  {
   "cell_type": "markdown",
   "metadata": {},
   "source": [
    "В python существуют 2 логических типа: `True` и `False`. Такие типы нызвают <b>булевскими</b> (`bool`)"
   ]
  },
  {
   "cell_type": "markdown",
   "metadata": {},
   "source": [
    "Конструкция `elif` позволяет рассматривать множественные случаи без вложенных `if ... else`"
   ]
  },
  {
   "cell_type": "code",
   "execution_count": null,
   "metadata": {
    "collapsed": false
   },
   "outputs": [],
   "source": [
    "if False:\n",
    "    print(\"Ветка if\")\n",
    "elif True:\n",
    "    print(\"Ветка elif\")\n",
    "else:\n",
    "    print(\"Ветка else\")\n",
    "    "
   ]
  },
  {
   "cell_type": "markdown",
   "metadata": {},
   "source": [
    "Что будет напечатано выше?"
   ]
  },
  {
   "cell_type": "markdown",
   "metadata": {},
   "source": [
    "Понятно, что после if может стоять не только значение True или False. Посмотрим, что делает Python, если после if стоит нечто более странное?"
   ]
  },
  {
   "cell_type": "markdown",
   "metadata": {},
   "source": [
    "Одни типы данных могут приводиться к другим, если это возможно (если python позволяет). Такое преобразование называется <b>приведением типов</b>, или, на слэнге, <b>прикастовыванием</b> (от англ. cast --- приведение)"
   ]
  },
  {
   "cell_type": "markdown",
   "metadata": {},
   "source": [
    "0 --> `False`"
   ]
  },
  {
   "cell_type": "code",
   "execution_count": null,
   "metadata": {
    "collapsed": false
   },
   "outputs": [],
   "source": [
    "if 0:                     \n",
    "    print(\"Ветка if\")\n",
    "else:\n",
    "    print(\"Ветка else\")"
   ]
  },
  {
   "cell_type": "markdown",
   "metadata": {},
   "source": [
    "любое другое число (в том числе и нецелое), отличное от 0 --> `True`"
   ]
  },
  {
   "cell_type": "code",
   "execution_count": null,
   "metadata": {
    "collapsed": false
   },
   "outputs": [],
   "source": [
    "if 5:\n",
    "    print(\"Ветка if\")\n",
    "else:\n",
    "    print(\"Ветка else\")"
   ]
  },
  {
   "cell_type": "code",
   "execution_count": null,
   "metadata": {
    "collapsed": false
   },
   "outputs": [],
   "source": [
    "if 3.5:\n",
    "    print(\"Ветка if\")\n",
    "else:\n",
    "    print(\"Ветка else\")"
   ]
  },
  {
   "cell_type": "code",
   "execution_count": null,
   "metadata": {
    "collapsed": false
   },
   "outputs": [],
   "source": [
    "if 0.0:\n",
    "    print(\"Ветка if\")\n",
    "else:\n",
    "    print(\"Ветка else\")"
   ]
  },
  {
   "cell_type": "code",
   "execution_count": null,
   "metadata": {
    "collapsed": false
   },
   "outputs": [],
   "source": [
    "if -1:\n",
    "    print(\"Ветка if\")\n",
    "else:\n",
    "    print(\"Ветка else\")"
   ]
  },
  {
   "cell_type": "markdown",
   "metadata": {},
   "source": [
    "Пустая строка `\"\"` --> `False`"
   ]
  },
  {
   "cell_type": "code",
   "execution_count": null,
   "metadata": {
    "collapsed": false
   },
   "outputs": [],
   "source": [
    "if \"\":\n",
    "    print(\"Ветка if\")\n",
    "else:\n",
    "    print(\"Ветка else\")"
   ]
  },
  {
   "cell_type": "markdown",
   "metadata": {},
   "source": [
    "Непустая строка --> `True`"
   ]
  },
  {
   "cell_type": "code",
   "execution_count": null,
   "metadata": {
    "collapsed": false
   },
   "outputs": [],
   "source": [
    "if \"abc\":\n",
    "    print(\"Ветка if\")\n",
    "else:\n",
    "    print(\"Ветка else\")"
   ]
  },
  {
   "cell_type": "code",
   "execution_count": null,
   "metadata": {
    "collapsed": false
   },
   "outputs": [],
   "source": [
    "if \"''\":\n",
    "    print(\"Ветка if\")\n",
    "else:\n",
    "    print(\"Ветка else\")"
   ]
  },
  {
   "cell_type": "markdown",
   "metadata": {},
   "source": [
    "Посмотрим, как устроены логические операции и операции сравнения в Python. \n",
    "\n",
    "Вот список тех из них, которыми вы будете пользоваться наиболее часто:\n",
    "* Равенство: `==`\n",
    "* Неравенство: `!=`\n",
    "* Меньше: `<`\n",
    "* Меньше либо равно: `<=`\n",
    "* Больше: `>`\n",
    "* Больше либо равно: `>=` \n",
    "* Логическое или: `or`\n",
    "* Логическое и: `and`\n",
    "* Логическое отрицание: `not`\n",
    "\n",
    "Рассмотрим несколько примеров."
   ]
  },
  {
   "cell_type": "code",
   "execution_count": null,
   "metadata": {
    "collapsed": false
   },
   "outputs": [],
   "source": [
    "print(5 > 2)"
   ]
  },
  {
   "cell_type": "code",
   "execution_count": null,
   "metadata": {
    "collapsed": false
   },
   "outputs": [],
   "source": [
    "print(not 5 > 2)"
   ]
  },
  {
   "cell_type": "code",
   "execution_count": null,
   "metadata": {
    "collapsed": false
   },
   "outputs": [],
   "source": [
    "a = 5\n",
    "b = 2\n",
    "print(a > b and a >= b)"
   ]
  },
  {
   "cell_type": "code",
   "execution_count": null,
   "metadata": {
    "collapsed": false
   },
   "outputs": [],
   "source": [
    "a = 5\n",
    "b = 2\n",
    "print(True and a > 2)"
   ]
  },
  {
   "cell_type": "code",
   "execution_count": null,
   "metadata": {
    "collapsed": false
   },
   "outputs": [],
   "source": [
    "a = 5\n",
    "b = 2\n",
    "print(False or b >= 2)"
   ]
  },
  {
   "cell_type": "code",
   "execution_count": null,
   "metadata": {
    "collapsed": false
   },
   "outputs": [],
   "source": [
    "a = 5\n",
    "b = 2\n",
    "print(b == a)"
   ]
  },
  {
   "cell_type": "code",
   "execution_count": null,
   "metadata": {
    "collapsed": false
   },
   "outputs": [],
   "source": [
    "a = 5\n",
    "b = 2\n",
    "print(b != a)"
   ]
  },
  {
   "cell_type": "markdown",
   "metadata": {
    "collapsed": true
   },
   "source": [
    "А вот так писать плохо и бессмысленно:"
   ]
  },
  {
   "cell_type": "code",
   "execution_count": null,
   "metadata": {
    "collapsed": false
   },
   "outputs": [],
   "source": [
    "bool_var = True\n",
    "if bool_var == True:\n",
    "    print(\"ай-ай\")\n",
    "\n",
    "if bool_var:\n",
    "    print(\"Так хорошо\")\n",
    "    \n",
    "bool_var = False\n",
    "\n",
    "if not bool_var:\n",
    "    print(\"И так тоже\")"
   ]
  },
  {
   "cell_type": "markdown",
   "metadata": {},
   "source": [
    "Конечно, в условии после `if` чаще всего и приходится использовать логические операции. В качестве примера, давайте напишем программу, проверяющую является ли данный год високосным. "
   ]
  },
  {
   "cell_type": "code",
   "execution_count": null,
   "metadata": {
    "collapsed": false
   },
   "outputs": [],
   "source": [
    "year = 2015\n",
    "\n",
    "if (year % 4 == 0 and year % 100 != 0) or year % 400 == 0:\n",
    "    print(\"YES\")\n",
    "else:\n",
    "    print(\"NO\")"
   ]
  },
  {
   "cell_type": "markdown",
   "metadata": {},
   "source": [
    "Единственная проблема у кода выше - это невозможность считать год с клавиатуры, как можно заметить, мы задали его в явном виде. Для решения этой проблемы нам понадобится функция `input`, она считывает строчку (до перевода строки) из `stdin` (стандартного потока ввода, который обычно связан с клавиатурой). Также нам понадобится функция `int`, она преобразует число записанное в виде строки в число. Далее, на примере среды Wing, мы подробнее разберем, откуда все считывается и куда выводится."
   ]
  },
  {
   "cell_type": "code",
   "execution_count": null,
   "metadata": {
    "collapsed": false
   },
   "outputs": [],
   "source": [
    "year = int(input())\n",
    "\n",
    "if (year % 4 == 0 and year % 100 != 0) or year % 400 == 0:\n",
    "    print(\"YES\")\n",
    "else:\n",
    "    print(\"NO\")"
   ]
  },
  {
   "cell_type": "markdown",
   "metadata": {},
   "source": [
    "# 5.Цикл while"
   ]
  },
  {
   "cell_type": "markdown",
   "metadata": {},
   "source": [
    "Очень часто случается, что нам надо повторить некоторые действия определенное число раз. Для этого в python есть разные типы циклов.<br>\n",
    "Самый просто устроенный цикл - `while`. Он работает точно так же как и в остальных языках программирования."
   ]
  },
  {
   "cell_type": "code",
   "execution_count": null,
   "metadata": {
    "collapsed": false
   },
   "outputs": [],
   "source": [
    "i = 0\n",
    "while i < 5:\n",
    "    i += 1\n",
    "    print(i)"
   ]
  },
  {
   "cell_type": "markdown",
   "metadata": {},
   "source": [
    "Естественно, после `while` может стоять любое условие. \n",
    "\n",
    "Также есть оператор `break`, он заканчивает выполнение цикла по достижению `break`."
   ]
  },
  {
   "cell_type": "code",
   "execution_count": null,
   "metadata": {
    "collapsed": false
   },
   "outputs": [],
   "source": [
    "i = 0\n",
    "while True:\n",
    "    print(\"before\", i)\n",
    "    if i == 2:\n",
    "        break\n",
    "    print(\"after\", i)\n",
    "    \n",
    "    i += 1"
   ]
  },
  {
   "cell_type": "markdown",
   "metadata": {},
   "source": [
    "Для примера давайте напишем программу, которая выводит наименьшую степень двойки, которая больше заданного числа $n$."
   ]
  },
  {
   "cell_type": "code",
   "execution_count": null,
   "metadata": {
    "collapsed": false
   },
   "outputs": [],
   "source": [
    "n = int(input())\n",
    "\n",
    "cp, i = 1, 0\n",
    "while n >= cp:\n",
    "    cp *= 2\n",
    "    i += 1\n",
    "    \n",
    "print(\"cp = %d, i = %d\" % (cp, i))  # это более удобный способ форматирования строк, ниже несколько комментариев про него"
   ]
  },
  {
   "cell_type": "markdown",
   "metadata": {},
   "source": [
    "В задаче выше мы воспользовались несколькими новыми вещами. \n",
    "\n",
    "Во-первых, конструкция вида `a, b = c, d` , называются параллельным присваиванием. В этом случае переменной `a` будет присвоено значение `c`, а переменной `b` значение `d`. В некоторых ситуациях это бывает очень удобно.\n",
    "\n",
    "Во-вторых, если нам нужно получить строку, содержащую несколько целых чисел с некоторым форматированием, то это можно сделать с помощью конструкции подобной конструкции выше. Формальное объяснение этой конструкции достаточно громоздко, давайте посмотрим на несколько примеров."
   ]
  },
  {
   "cell_type": "code",
   "execution_count": null,
   "metadata": {
    "collapsed": false
   },
   "outputs": [],
   "source": [
    "print(\"I'am %d years old.\" % 19)"
   ]
  },
  {
   "cell_type": "markdown",
   "metadata": {},
   "source": [
    "`%d` указывает на то, что на месте `%d` должно стоять число, идущее после `%` (в данном случае это 19) <br>\n",
    "В примере со степенью надо было подставить 2 числа, для этого мы их объединили в скобки. Если написать без них,\n",
    "то будет ошибка, так как ожидается, что должно подставить 2 значения, а дано только одно. Более точное объяснение скобкам\n",
    "будет ниже."
   ]
  },
  {
   "cell_type": "code",
   "execution_count": null,
   "metadata": {
    "collapsed": false
   },
   "outputs": [],
   "source": [
    "print(\"2 * 2 = %d\" % (2 * 2)) # самый простой пример просто вставляющий целое число в нужное место"
   ]
  },
  {
   "cell_type": "markdown",
   "metadata": {},
   "source": [
    "Форматирование строк --- мощный и гибкий инструмент. Можно задавать различные параметры, например, для подставляемых чисел.\n",
    "Например, в следующем примере, конструкция `%02d` означает: подставить число, если оно меньше двух знаков, то заполнить пространство перед ним нулями так, чтобы суммарно получилось два знака"
   ]
  },
  {
   "cell_type": "code",
   "execution_count": null,
   "metadata": {
    "collapsed": false
   },
   "outputs": [],
   "source": [
    "print(\"%02d:%02d\" % (15, 2))  # немного форматирования самого числа"
   ]
  },
  {
   "cell_type": "markdown",
   "metadata": {},
   "source": [
    "# 6. List и tuple"
   ]
  },
  {
   "cell_type": "markdown",
   "metadata": {},
   "source": [
    "Несколько общих слов. List это некоторое подобие массива в \"привычных\" вам языках программирования лишь с тем отличием, что в `list` могут храниться элементы разных типов. Давайте попробуем разобраться на примерах."
   ]
  },
  {
   "cell_type": "code",
   "execution_count": null,
   "metadata": {
    "collapsed": false
   },
   "outputs": [],
   "source": [
    "a = [1, 2, \"Hi\"]        # мы создали список и присвоили переменной а этот список\n",
    "print(a[0], a[1], a[2]) # так обращаться к элементам списка, элементы индексируются с нуля\n",
    "\n",
    "b = list()              # таким образом можно создать пустой список\n",
    "с = []                  # пустой список также можно создать и таким способом"
   ]
  },
  {
   "cell_type": "markdown",
   "metadata": {},
   "source": [
    "В Python есть отрицательная индексация. $-1$ элемент это последний элемент, $-2$ элемент это предпоследний элемент списка и так далее. После примеров ниже должно стать совсем понятно."
   ]
  },
  {
   "cell_type": "code",
   "execution_count": null,
   "metadata": {
    "collapsed": false
   },
   "outputs": [],
   "source": [
    "a = [1, 2, \"Hi\"] \n",
    "print(a[-2]) "
   ]
  },
  {
   "cell_type": "code",
   "execution_count": null,
   "metadata": {
    "collapsed": false
   },
   "outputs": [],
   "source": [
    "b = [\"a\", 1, 2, 3, 4, \"b\", -10, [1, 2, 3], 3.4, \"!!!\"] # элементом списка может быть список\n",
    "print(b[-3])"
   ]
  },
  {
   "cell_type": "code",
   "execution_count": null,
   "metadata": {
    "collapsed": false
   },
   "outputs": [],
   "source": [
    "a = [1, 2, \"Hi\"] \n",
    "a[1] = 4 # можно изменить отдельный элемент\n",
    "print(a) # можно вывести весь список"
   ]
  },
  {
   "cell_type": "markdown",
   "metadata": {},
   "source": [
    "Бывает такое, что нам нужна только некоторая часть списка, например все элементы с $5$ по $10$, или все элементы с четными индексами. Подобное можно сделать с помощью срезов. \n",
    "\n",
    "Срез задается одним из нескольких способов:\n",
    "* список[первый элемент:следующий после последнего элемента]\n",
    "* список[первый элемент:] в этом случае последний это последний элемент списка\n",
    "* список[:следующий после последнего элемента] в этом случае нулевой элемент это первый элемент списка\n",
    "* список[первый элемент:следующий после последнего элемента:шаг] шаг - промежуток между соседними элементами, которые нужно взять, по умолчанию шаг равен 1\n",
    "\n",
    "Нужно понимать, что любой из параметров может быть опущен так, например, срез a[::] будет содержать просто весь список a."
   ]
  },
  {
   "cell_type": "code",
   "execution_count": null,
   "metadata": {
    "collapsed": false
   },
   "outputs": [],
   "source": [
    "print([1, 2, 3, 4, 5, 6, 7, 8][:5])"
   ]
  },
  {
   "cell_type": "code",
   "execution_count": null,
   "metadata": {
    "collapsed": false
   },
   "outputs": [],
   "source": [
    "print([1, 2, 3, 4, 5, 6, 7, 8][1:7:2])"
   ]
  },
  {
   "cell_type": "code",
   "execution_count": null,
   "metadata": {
    "collapsed": false
   },
   "outputs": [],
   "source": [
    "print([1, 2, 3, 4, 5, 6, 7, 8][:0])"
   ]
  },
  {
   "cell_type": "code",
   "execution_count": null,
   "metadata": {
    "collapsed": false,
    "scrolled": true
   },
   "outputs": [],
   "source": [
    "print([1, 2, 3, 4, 5, 6, 7, 8][::2])"
   ]
  },
  {
   "cell_type": "code",
   "execution_count": null,
   "metadata": {
    "collapsed": false
   },
   "outputs": [],
   "source": [
    "print([1, 2, 3, 4, 5, 6, 7, 8][::-1])"
   ]
  },
  {
   "cell_type": "code",
   "execution_count": null,
   "metadata": {
    "collapsed": false
   },
   "outputs": [],
   "source": [
    "print([1, 2, 3, 4, 5, 6, 7, 8][2::-1])"
   ]
  },
  {
   "cell_type": "markdown",
   "metadata": {},
   "source": [
    "Кстати, как вы думаете, что будет выведено ниже?"
   ]
  },
  {
   "cell_type": "code",
   "execution_count": null,
   "metadata": {
    "collapsed": false
   },
   "outputs": [],
   "source": [
    "if []:\n",
    "    print(\"Ветка if\")\n",
    "else:\n",
    "    print(\"Ветка else\")"
   ]
  },
  {
   "cell_type": "code",
   "execution_count": null,
   "metadata": {
    "collapsed": false
   },
   "outputs": [],
   "source": [
    "if not []:\n",
    "     print(\"Ветка if\")\n",
    "else:\n",
    "    print(\"Ветка else\")"
   ]
  },
  {
   "cell_type": "code",
   "execution_count": null,
   "metadata": {
    "collapsed": false
   },
   "outputs": [],
   "source": [
    "if [2, 3, 4]:\n",
    "    print(\"Ветка if\")\n",
    "else:\n",
    "    print(\"Ветка else\")"
   ]
  },
  {
   "cell_type": "markdown",
   "metadata": {},
   "source": [
    "В списках все точно так же, как и со строками: пустой список `[]` --> `False`, непустой -->`True` <br>\n",
    "Что будет выведено ниже?"
   ]
  },
  {
   "cell_type": "code",
   "execution_count": null,
   "metadata": {
    "collapsed": false
   },
   "outputs": [],
   "source": [
    "if [[]]:\n",
    "    print(\"Ветка if\")\n",
    "else:\n",
    "    print(\"Ветка else\")"
   ]
  },
  {
   "cell_type": "markdown",
   "metadata": {},
   "source": [
    "Несколько необычных примеров:"
   ]
  },
  {
   "cell_type": "code",
   "execution_count": null,
   "metadata": {
    "collapsed": false
   },
   "outputs": [],
   "source": [
    "print(\"abc\" and [1, 2, 34])"
   ]
  },
  {
   "cell_type": "code",
   "execution_count": null,
   "metadata": {
    "collapsed": false
   },
   "outputs": [],
   "source": [
    "print(\"abc\" < [1, 2])"
   ]
  },
  {
   "cell_type": "code",
   "execution_count": null,
   "metadata": {
    "collapsed": false
   },
   "outputs": [],
   "source": [
    "print(\"abc\" == [1, 2])"
   ]
  },
  {
   "cell_type": "code",
   "execution_count": null,
   "metadata": {
    "collapsed": false
   },
   "outputs": [],
   "source": [
    "print(\"abc\" != [1, 2])"
   ]
  },
  {
   "cell_type": "markdown",
   "metadata": {},
   "source": [
    "Давайте немного подробнее поговорим о присваивании списков, с этим в Python есть несколько сложностей.\n",
    "\n",
    "Как уже было сказано ранее, Python интерпретируемый язык. Во время выполнения он должен хранить все данные которые у вас есть в программе, поэтому у интерпретатора во время выполнения хранится множество существующих объектов, и переменная это всего лишь ссылка на объект, который хранит интепретатор.\n",
    "\n",
    "Давайте чуть-чуть подробнее изучим, как устроен лист с учетом ссылочного устройства."
   ]
  },
  {
   "cell_type": "code",
   "execution_count": null,
   "metadata": {
    "collapsed": false
   },
   "outputs": [],
   "source": [
    "a = [1, 2, 3, 4] # а - ссылка на лист, каждый элемент листа это ссылка на элементы 1, 2, 3, 4\n",
    "b = a  # b - ссылка теперь на тот же лист\n",
    "\n",
    "print(\"id(a) = %d, id(b) = %d\" % (id(a), id(b))) # в Python у каждого объекта есть свой id\n",
    "                                                 # это некоторое уникальное число сопоставленное объекту\n",
    "\n",
    "a[0] = -1\n",
    "print(\"b =\", b)"
   ]
  },
  {
   "cell_type": "markdown",
   "metadata": {},
   "source": [
    "Также для списка есть набор удобных функций уже встроенных в Python, которые иногда упрощают жизнь. Давайте посмотрим на некоторые из них."
   ]
  },
  {
   "cell_type": "code",
   "execution_count": null,
   "metadata": {
    "collapsed": false
   },
   "outputs": [],
   "source": [
    "l = [1, 2, -1, 3, 2, -2, 1, 5, 7, 3]\n",
    "print(min(l))"
   ]
  },
  {
   "cell_type": "code",
   "execution_count": null,
   "metadata": {
    "collapsed": false
   },
   "outputs": [],
   "source": [
    "# не стоит думать, что min можно брать только от list или tuple, конечно, существует min от двух элементов\n",
    "print(min(12, 10))"
   ]
  },
  {
   "cell_type": "code",
   "execution_count": null,
   "metadata": {
    "collapsed": false
   },
   "outputs": [],
   "source": [
    "print(sum([2, 3, 11, 1])) # эта функция суммирует все числа в list или tuple"
   ]
  },
  {
   "cell_type": "code",
   "execution_count": null,
   "metadata": {
    "collapsed": false
   },
   "outputs": [],
   "source": [
    "l = [1, 2, 3]\n",
    "l.append(4) # метод append добавляет элемент в конец списка\n",
    "print(l)\n",
    "l.pop()     # метод pop удаляет из списка последний элемент\n",
    "print(l)"
   ]
  },
  {
   "cell_type": "code",
   "execution_count": null,
   "metadata": {
    "collapsed": false
   },
   "outputs": [],
   "source": [
    "l = [1, 2, -1, 3, 2, -2, 1, 5, 7, 3]\n",
    "print(l.index(3))   # заметьте, что в списке l у нас две тройки и index возвращает индекс первой из них"
   ]
  },
  {
   "cell_type": "code",
   "execution_count": null,
   "metadata": {
    "collapsed": false
   },
   "outputs": [],
   "source": [
    "l = [1, 2, -1, 3, 2, -2, 1, 5, 7, 3]\n",
    "print(l.index(115)) # если элемента нет в списке, то произойдет ошибка выполнения"
   ]
  },
  {
   "cell_type": "markdown",
   "metadata": {},
   "source": [
    "Так же есть удобный метод `sort`, она сортирует список по невозрастанию."
   ]
  },
  {
   "cell_type": "code",
   "execution_count": null,
   "metadata": {
    "collapsed": false
   },
   "outputs": [],
   "source": [
    "a = [3, 2, 4, 1, 2]\n",
    "a.sort()\n",
    "print(a)"
   ]
  },
  {
   "cell_type": "markdown",
   "metadata": {},
   "source": [
    "Еще одна приятная функция это `reverse`, она, как следует из названия, переворачивает список."
   ]
  },
  {
   "cell_type": "code",
   "execution_count": null,
   "metadata": {
    "collapsed": false
   },
   "outputs": [],
   "source": [
    "a = [1, 4, 2, 5, 2]\n",
    "a.reverse()\n",
    "print(a)"
   ]
  },
  {
   "cell_type": "markdown",
   "metadata": {},
   "source": [
    "А как еще можно перевернуть список?"
   ]
  },
  {
   "cell_type": "code",
   "execution_count": null,
   "metadata": {
    "collapsed": false
   },
   "outputs": [],
   "source": [
    "a = [1, 4, 2, 5, 2]\n",
    "a = a[::-1]\n",
    "print(a)"
   ]
  },
  {
   "cell_type": "markdown",
   "metadata": {},
   "source": [
    "`Tuple` почти ничем не отличает от `list`, только он неизменяемый. То есть нельзя взять и изменить один элемент. Во всем остальном они будут идентичны."
   ]
  },
  {
   "cell_type": "code",
   "execution_count": null,
   "metadata": {
    "collapsed": false
   },
   "outputs": [],
   "source": [
    "a = (1, 2, \"Hi\")         # tuple записывается в круглых скобках\n",
    "print(a[0], a[1], a[2])\n",
    "\n",
    "b = tuple()              # изменения по сравнению с аналогичным куском кода для списка минимальны"
   ]
  },
  {
   "cell_type": "code",
   "execution_count": null,
   "metadata": {
    "collapsed": false
   },
   "outputs": [],
   "source": [
    "a = (1, 2, \"Hi\")\n",
    "a[1] = 4                 # так делать нельзя, о чем интерпретатор нам скажет"
   ]
  },
  {
   "cell_type": "code",
   "execution_count": null,
   "metadata": {
    "collapsed": false
   },
   "outputs": [],
   "source": [
    "a = (1, 2, \"Hi\")\n",
    "a.sort()                 # аналогично нельзя, ведь sort хотел бы изменить a"
   ]
  },
  {
   "cell_type": "markdown",
   "metadata": {},
   "source": [
    "`Tuple` так же умеет работать с срезами."
   ]
  },
  {
   "cell_type": "markdown",
   "metadata": {},
   "source": [
    "Выше мы встречались с такой конструкцией как параллельное присваивание. Давайте ее немного обобщим. \n",
    "\n",
    "Раньше у нас параллельное присваивание выглядело так:\n",
    "\n",
    "`a, b = c, d`\n",
    "\n",
    "Но! Если мы вместо двух значений `c` и `d` поставим один `tuple` или `list` содержащий столько же элементов, сколько и переменных в левой части равенства, то Python проделает аналогичное параллельное присваивание."
   ]
  },
  {
   "cell_type": "code",
   "execution_count": null,
   "metadata": {
    "collapsed": false
   },
   "outputs": [],
   "source": [
    "a, b = (1, 2)           # самый простой случай, когда мы присваиваем в явном виде заданный tuple \n",
    "print(a, b)"
   ]
  },
  {
   "cell_type": "code",
   "execution_count": null,
   "metadata": {
    "collapsed": false
   },
   "outputs": [],
   "source": [
    "a, b, c = [2, \"abs\", 3] # то же самое но со списком\n",
    "print(a, b, c)"
   ]
  },
  {
   "cell_type": "code",
   "execution_count": null,
   "metadata": {
    "collapsed": false
   },
   "outputs": [],
   "source": [
    "tup = (1, 2, 3)\n",
    "a, b, c = tup           # чуть менее тривиальная запись того же самого\n",
    "print(a, b, c)"
   ]
  },
  {
   "cell_type": "markdown",
   "metadata": {},
   "source": [
    "Впереди нас ждет еще один кусочек про параллельное присваивание, а пока остановимся."
   ]
  },
  {
   "cell_type": "markdown",
   "metadata": {},
   "source": [
    "# 7.Цикл for"
   ]
  },
  {
   "cell_type": "markdown",
   "metadata": {},
   "source": [
    "Цикл `for` имеет в Python свою специфику. \n",
    "\n",
    "В нашем случае цикл имеет один из двух видов:\n",
    "* `for` переменная in `list`/`tuple`\n",
    "* `for` переменная in `range(start, end, step)`\n",
    "\n",
    "Рассмотрим примеры.\n"
   ]
  },
  {
   "cell_type": "code",
   "execution_count": null,
   "metadata": {
    "collapsed": false
   },
   "outputs": [],
   "source": [
    "for i in (2, 3, 5):\n",
    "    print(i)"
   ]
  },
  {
   "cell_type": "code",
   "execution_count": null,
   "metadata": {
    "collapsed": false
   },
   "outputs": [],
   "source": [
    "t = [3, \"ads\", 4]\n",
    "for i in t:\n",
    "    print(i)"
   ]
  },
  {
   "cell_type": "code",
   "execution_count": null,
   "metadata": {
    "collapsed": false
   },
   "outputs": [],
   "source": [
    "for i in range(5):\n",
    "    print(i)"
   ]
  },
  {
   "cell_type": "code",
   "execution_count": null,
   "metadata": {
    "collapsed": false
   },
   "outputs": [],
   "source": [
    "for i in range(2, 5):\n",
    "    print(i)"
   ]
  },
  {
   "cell_type": "code",
   "execution_count": null,
   "metadata": {
    "collapsed": false
   },
   "outputs": [],
   "source": [
    "for i in range(2, 10, 3):\n",
    "    print(i)"
   ]
  },
  {
   "cell_type": "markdown",
   "metadata": {},
   "source": [
    "Стоить заметить, что поведение параметров `range` (некоторый объект) очень похоже на поведение параметров у срезов.\n",
    "\n",
    "Примеры ниже либо сводят с ума либо показывают, что `range` во многом похож на `list`! Но чтобы работали эти примеры нужен Python 3.3 или более новой версии."
   ]
  },
  {
   "cell_type": "code",
   "execution_count": null,
   "metadata": {
    "collapsed": false
   },
   "outputs": [],
   "source": [
    "r = range(5)\n",
    "\n",
    "print(r[2], r[-1])"
   ]
  },
  {
   "cell_type": "markdown",
   "metadata": {},
   "source": [
    "Аналогично циклу `while` для цикла `for` есть оператор `break`."
   ]
  },
  {
   "cell_type": "code",
   "execution_count": null,
   "metadata": {
    "collapsed": false
   },
   "outputs": [],
   "source": [
    "for i in range(10):\n",
    "    print(\"before\", i)\n",
    "    if i == 2:\n",
    "        break\n",
    "    print(\"after\", i)"
   ]
  },
  {
   "cell_type": "markdown",
   "metadata": {},
   "source": [
    "В Python у цикла `for` есть возможность написать ветку `else`. Это будет работать так:\n",
    "если цикл был завершен при помощи `break`, то ветка `else` выполнена не будет, в противном случае, после выполнения цикла она будет выполнена.\n",
    "\n",
    "Достаточно странная возможность, чтобы понять как это можно использовать, решим задачу. Дан список, нужно проверить встречается ли в нем $-1$, если встречается, вывести \"YES\", иначе \"NO\". (Мы еще не умеем считывать целиком список, поэтому пока зададим его в коде программы.)"
   ]
  },
  {
   "cell_type": "code",
   "execution_count": null,
   "metadata": {
    "collapsed": false
   },
   "outputs": [],
   "source": [
    "l = [1, 2, 3, 4, 5, 10, 1, 5, -1, 10, 12]\n",
    "\n",
    "for i in l:\n",
    "    if i == -1:\n",
    "        print(\"YES\")\n",
    "        break\n",
    "else:\n",
    "    print(\"NO\")"
   ]
  },
  {
   "cell_type": "code",
   "execution_count": null,
   "metadata": {
    "collapsed": false
   },
   "outputs": [],
   "source": [
    "l = [1, 2, 3, 4, 5, 10, 1, 5, 10, 12]\n",
    "\n",
    "for i in l:\n",
    "    if i == -1:\n",
    "        print(\"YES\")\n",
    "        break\n",
    "else:\n",
    "    print(\"NO\")"
   ]
  },
  {
   "cell_type": "markdown",
   "metadata": {},
   "source": [
    "Такая реализация иногда заметно проще, чем заводить отдельную переменную для флага или писать `if...else`"
   ]
  },
  {
   "cell_type": "markdown",
   "metadata": {},
   "source": [
    "# 8.Строки"
   ]
  },
  {
   "cell_type": "markdown",
   "metadata": {},
   "source": [
    "Мы уже раньше много раз встречались со строками, задавая их, как правило в явном виде в кавычках. Даже много чего делали с ними: выводили, даже чуть-чуть форматировали. Давайте подробнее обсудим, что можно делать со строками средствами Python."
   ]
  },
  {
   "cell_type": "code",
   "execution_count": null,
   "metadata": {
    "collapsed": false
   },
   "outputs": [],
   "source": [
    "a = \"abc\"\n",
    "b = \"edf\"\n",
    "print(a)           # просто вывести\n",
    "print(a * 2)       # строки можно естественным образом умножать на целое число\n",
    "print(a + b)       # строки можно складывать\n",
    "print(a[0], a[-1]) # можно обращаться к элементам строки"
   ]
  },
  {
   "cell_type": "code",
   "execution_count": null,
   "metadata": {
    "collapsed": false
   },
   "outputs": [],
   "source": [
    "a = \"abc\"\n",
    "a[0] = 'f'         # строки неизменяемые как и tuple"
   ]
  },
  {
   "cell_type": "code",
   "execution_count": null,
   "metadata": {
    "collapsed": false
   },
   "outputs": [],
   "source": [
    "a = 124            # число\n",
    "b = str(a)         # можно число преобразовать в строчку\n",
    "print(a, type(a))\n",
    "print(b, type(b))"
   ]
  },
  {
   "cell_type": "markdown",
   "metadata": {},
   "source": [
    "Выше мы использовали функцию `type`, с ее помощью очень удобно узнавать тип какой-либо переменной. Она вряд ли вам понадобится на контесте, но иногда может пригодиться для целей отладки."
   ]
  },
  {
   "cell_type": "code",
   "execution_count": null,
   "metadata": {
    "collapsed": false
   },
   "outputs": [],
   "source": [
    "a = int(\"1234\")\n",
    "print(a, type(a))  # помните строчку int(input()), там нет никакой магии, мы просто преобразовывали строку к числу"
   ]
  },
  {
   "cell_type": "code",
   "execution_count": null,
   "metadata": {
    "collapsed": false
   },
   "outputs": [],
   "source": [
    "a = input()\n",
    "print(a, type(a))  # функция input просто считывает строчку до перевода строки, все очень просто"
   ]
  },
  {
   "cell_type": "markdown",
   "metadata": {},
   "source": [
    "Как было сказано выше, строки неизменяемые, но достаточно часто встречается ситуация, когда нам нужно изменить один символ в строке. В таких случаях преобразуют строку к списку и получают список символов, то есть строк состоящих из одного символа, изменяют один элемент списка, что мы уже научились делать, а потом список строк склеивают в одну большую строку. Давайте подробнее посмотрим, как все это делается."
   ]
  },
  {
   "cell_type": "code",
   "execution_count": null,
   "metadata": {
    "collapsed": false
   },
   "outputs": [],
   "source": [
    "a = \"long string\"  # у нас есть строка, мы хотим уметь ее изменять\n",
    "print(a)\n",
    "\n",
    "l = list(a)        # сделаем из строки список символов\n",
    "print(l)\n",
    "\n",
    "l[2] = \"!\"         # изменим один элемент списка\n",
    "print(l) "
   ]
  },
  {
   "cell_type": "markdown",
   "metadata": {},
   "source": [
    "В предыдущем кусочке мы научились преобразовывать строку к списку символов и изменять один символ. Теперь нам нужно научиться из списка символов делать одну большую строку.\n",
    "\n",
    "Для этого в Python у строки есть метод `join`.\n",
    "\n",
    "`s.join(l)` - вернет строку, в которой все элементы списка $l$ записаны через разделитель(строку) $s$."
   ]
  },
  {
   "cell_type": "code",
   "execution_count": null,
   "metadata": {
    "collapsed": false
   },
   "outputs": [],
   "source": [
    "print(\"#\".join([\"1\", \"2\", \"3\"])) # запишет \"1\" \"2\" \"3\" через разделительную строку \"#\" "
   ]
  },
  {
   "cell_type": "code",
   "execution_count": null,
   "metadata": {
    "collapsed": false
   },
   "outputs": [],
   "source": [
    "print(\"\".join([\"1\", \"2\", \"3\"]))  # запишет \"1\" \"2\" \"3\" через пустую разделительную строку "
   ]
  },
  {
   "cell_type": "markdown",
   "metadata": {},
   "source": [
    "Способом выше как раз и делается, что нам нужно. Давайте теперь целиком напишем программу, которая меняет в считанной строке второй элемент на символ \"!\"."
   ]
  },
  {
   "cell_type": "code",
   "execution_count": null,
   "metadata": {
    "collapsed": false
   },
   "outputs": [],
   "source": [
    "s = input()\n",
    "l = list(s)\n",
    "l[1] = \"!\" # первый символ имеет индекс 0, второй символ имеет индекс 1\n",
    "s = \"\".join(l)\n",
    "print(s)"
   ]
  },
  {
   "cell_type": "markdown",
   "metadata": {},
   "source": [
    "Так же пока мы не умеем выводить список строк через пробел, это так же делается с помощью метода `join`.\n",
    "\n",
    "Есть метод противоположный методу `join` - это `split`, он разбивает строку по разделяющей строке и возвращает список строк."
   ]
  },
  {
   "cell_type": "code",
   "execution_count": null,
   "metadata": {
    "collapsed": false
   },
   "outputs": [],
   "source": [
    "print(\"1#2#3\".split(\"#\"))          # разобьет строку по символу \"#\""
   ]
  },
  {
   "cell_type": "code",
   "execution_count": null,
   "metadata": {
    "collapsed": false
   },
   "outputs": [],
   "source": [
    "print(\"1 2 3        fasd\".split()) # split без параметров разбивает строку по пробельным символам"
   ]
  },
  {
   "cell_type": "code",
   "execution_count": null,
   "metadata": {
    "collapsed": false
   },
   "outputs": [],
   "source": [
    "print(\"1abc2abcd3\".split(\"abc\"))   # строка разделитель может стоять более чем из одной буквы"
   ]
  },
  {
   "cell_type": "markdown",
   "metadata": {},
   "source": [
    "# 9.Генераторы списков"
   ]
  },
  {
   "cell_type": "markdown",
   "metadata": {},
   "source": [
    "Иногда возникает необходимость создать список с определенными значениями элементов. Например, предподсчитать квадраты чисел или получить список вида `[1, 2, 3, 4, 5, 6, ...]`, или даже просто получить список заполненный нулями.\n",
    "\n",
    "Самый простой способ это с помощью метода `append` добавлять в конец списка нужные элементы, например как сделано в коде ниже."
   ]
  },
  {
   "cell_type": "code",
   "execution_count": null,
   "metadata": {
    "collapsed": false
   },
   "outputs": [],
   "source": [
    "l = list()\n",
    "\n",
    "for i in range(10):\n",
    "    l.append(i ** 2)\n",
    "    \n",
    "print(l)"
   ]
  },
  {
   "cell_type": "markdown",
   "metadata": {},
   "source": [
    "Конечно, в Python существует более простой способ делать подобные вещи, он называется генератор списка. Для понимания его можно рассматривать как сокращение записи с `for`, но, формально, он сокращением не является, это просто отдельная конструкция."
   ]
  },
  {
   "cell_type": "code",
   "execution_count": null,
   "metadata": {
    "collapsed": false
   },
   "outputs": [],
   "source": [
    "l = [i ** 2 for i in range(10)]\n",
    "print(l)   # этот код делает то же самое, что и код выше"
   ]
  },
  {
   "cell_type": "markdown",
   "metadata": {},
   "source": [
    "Как можно попытаться запомнить конструкцию:\n",
    "\n",
    "`имя_списка = [то_что_будет добавляться в конец for переменная in что-то]`"
   ]
  },
  {
   "cell_type": "code",
   "execution_count": null,
   "metadata": {
    "collapsed": false
   },
   "outputs": [],
   "source": [
    "l = [0 for i in range(10)]  # список длины 10 из нулей\n",
    "print(l)\n",
    "\n",
    "l1 = [0] * 10  # списки можно как и строки умножать на число, но этот способ имеет свои особенности, лучше генератор\n",
    "print(l1)"
   ]
  },
  {
   "cell_type": "code",
   "execution_count": null,
   "metadata": {
    "collapsed": false
   },
   "outputs": [],
   "source": [
    "l = [2 ** i for i in range(10)] # список длины 10 из степеней двоек\n",
    "print(l)"
   ]
  },
  {
   "cell_type": "markdown",
   "metadata": {},
   "source": [
    "На самом деле генераторы умеют \"сокращать\" еще более сложную запись. Посмотрим на пример ниже."
   ]
  },
  {
   "cell_type": "code",
   "execution_count": null,
   "metadata": {
    "collapsed": false
   },
   "outputs": [],
   "source": [
    "l = list()\n",
    "\n",
    "for i in range(10):\n",
    "    if i % 2 == 1:\n",
    "        l.append(i ** 2)\n",
    "    \n",
    "print(l) # в l квадраты нечетных чисел"
   ]
  },
  {
   "cell_type": "code",
   "execution_count": null,
   "metadata": {
    "collapsed": false
   },
   "outputs": [],
   "source": [
    "l = [i ** 2 for i in range(10) if i % 2 == 1]\n",
    "print(l)"
   ]
  },
  {
   "cell_type": "markdown",
   "metadata": {},
   "source": [
    "В конце генератора можно написать условие, при выполнении которого элементы будут добавляться."
   ]
  },
  {
   "cell_type": "markdown",
   "metadata": {},
   "source": [
    "Также можно делать со списками и строками:"
   ]
  },
  {
   "cell_type": "code",
   "execution_count": null,
   "metadata": {
    "collapsed": false
   },
   "outputs": [],
   "source": [
    "a = [i for i in [1, 2, 3, 4, 5, 6] if i % 2 == 0]\n",
    "print(a)"
   ]
  },
  {
   "cell_type": "code",
   "execution_count": null,
   "metadata": {
    "collapsed": false
   },
   "outputs": [],
   "source": [
    "b = [c for c in \"abcdef\"]\n",
    "print(b)"
   ]
  },
  {
   "cell_type": "markdown",
   "metadata": {},
   "source": [
    "# 10.Считывание"
   ]
  },
  {
   "cell_type": "markdown",
   "metadata": {},
   "source": [
    "Как вы могли заметить, мы так и не научились считывать два числа из одной строки. Это одна из немногих вещей, которая в Python чуть-чуть сложнее, чем в более привычных языках. Сейчас нам понадобится все, что мы изучили выше."
   ]
  },
  {
   "cell_type": "code",
   "execution_count": null,
   "metadata": {
    "collapsed": false
   },
   "outputs": [],
   "source": [
    "a, b = [int(i) for i in input().split()] # так считываются 2 целых числа из одной строки\n",
    "print(a, type(a))\n",
    "print(b, type(b))"
   ]
  },
  {
   "cell_type": "markdown",
   "metadata": {},
   "source": [
    "Что происходит при выполнении этого кода:\n",
    "1. Вызывается функция `input` и считывается одно строка.\n",
    "2. Для считанной строки вызывается метод `split` и разбивает ее по пробелам. Наши числа как раз и были записаны через пробел.\n",
    "3. Метод `split` вернули список строк, после этого цикл в генераторе списка начинает работать и перебирать элементы.\n",
    "4. Перед попадание в итоговый список ко всем элементам применяется функция `int`.\n",
    "5. Происходит параллельное присваивание и переменной `a` присваивается значение первого числа в строк, переменной `b` значение второго числа.\n",
    "\n",
    "Давайте ниже напишем эквивалент этого кода, только без генератора списка. Так писать не нужно, потому что это медленно и на самом деле сложнее."
   ]
  },
  {
   "cell_type": "code",
   "execution_count": null,
   "metadata": {
    "collapsed": false
   },
   "outputs": [],
   "source": [
    "s = input()\n",
    "\n",
    "l = s.split()\n",
    "print(l) # посмотрим, что получилось\n",
    "\n",
    "ans = list()\n",
    "for el in l:\n",
    "    ans.append(int(el))\n",
    "print(el)\n",
    "\n",
    "a, b = ans\n",
    "\n",
    "print(a, type(a))\n",
    "print(b, type(b))"
   ]
  },
  {
   "cell_type": "markdown",
   "metadata": {},
   "source": [
    "Как вы можете заметить, этот код делает ровно тоже самое, просто мы все написали длиннее."
   ]
  },
  {
   "cell_type": "markdown",
   "metadata": {},
   "source": [
    "Заметим, что ровно таким же способов из строки считывается сколько угодно чисел. Чтобы окончательно разобраться, давайте решим задачу. На вход программе дается строка, содержащая несколько чисел через пробелы, нужно найти минимум из этих чисел."
   ]
  },
  {
   "cell_type": "code",
   "execution_count": null,
   "metadata": {
    "collapsed": false
   },
   "outputs": [],
   "source": [
    "l = [int(i) for i in input().split()]\n",
    "print(min(l))"
   ]
  },
  {
   "cell_type": "markdown",
   "metadata": {},
   "source": [
    "На самом деле все то же самое можно было написать в одну строчку!"
   ]
  },
  {
   "cell_type": "code",
   "execution_count": null,
   "metadata": {
    "collapsed": false
   },
   "outputs": [],
   "source": [
    "print(min([int(i) for i in input().split()]))"
   ]
  },
  {
   "cell_type": "markdown",
   "metadata": {},
   "source": [
    "Если вы хотите убрать вокруг строки лишние пробельные символы (что вполне может подаваться на входе), то вам понадобится\n",
    "функция .strip(), применяемая к строке. Рассмотрим пример:"
   ]
  },
  {
   "cell_type": "code",
   "execution_count": null,
   "metadata": {
    "collapsed": false
   },
   "outputs": [],
   "source": [
    "s = \"   sdf kjk   sd   \"\n",
    "print(s.split()) # split без параметров умеет разбивать по нескольким пробелам\n",
    "print(s.split(' '))\n",
    "s = s.strip()\n",
    "print(s)\n",
    "print(s.split(' '))"
   ]
  },
  {
   "cell_type": "markdown",
   "metadata": {},
   "source": [
    "Чтобы понять, как выводить список через пробел, напишем программу, которая считывает набор чисел из одной строки и сортирует их по убыванию."
   ]
  },
  {
   "cell_type": "code",
   "execution_count": null,
   "metadata": {
    "collapsed": false
   },
   "outputs": [],
   "source": [
    "a = [int(i) for i in input().strip().split()] # в данном случае strip можно и не писать, так как split без параметров\n",
    "print(a)\n",
    "a.sort()\n",
    "print(a)\n",
    "for i in a:\n",
    "    print(i)"
   ]
  },
  {
   "cell_type": "markdown",
   "metadata": {},
   "source": [
    "Другой вариант написания:"
   ]
  },
  {
   "cell_type": "code",
   "execution_count": null,
   "metadata": {
    "collapsed": false
   },
   "outputs": [],
   "source": [
    "a = [int(i) for i in input().split()]\n",
    "a.sort()\n",
    "a = [str(i) for i in a]\n",
    "print(a)\n",
    "print(' '.join(a))"
   ]
  },
  {
   "cell_type": "markdown",
   "metadata": {},
   "source": [
    "Метод `join` требует на вход список строк, именно для этого мы и воспользовались генератором. То есть генератор здесь только для того, чтобы преобразовать список чисел в список строк. Посмотрите, это действительно так."
   ]
  },
  {
   "cell_type": "markdown",
   "metadata": {},
   "source": [
    "На самом деле, мы уже умеем почти все, что нужно чтобы писать простые программы на Python. Для дополнительного удобства, давайте подробнее рассмотрим функцию `print`, мы много раз ей пользовались, но подробно не говорили.\n",
    "\n",
    "На самом деле нам хватает уже того, что мы умеем, разве что иногда хочется выводить числа не через пробел или не делать перевод строки после каждого вызова `print`. Это делается с помощью параметров `sep` и `end`. `sep` это строка, которую `print` вставляет между двумя элементами для вывода, по умолчанию пробел, а `end` это строка, которая записывает в конце после вызова `print`, по умолчанию это '\\n', то есть перевод строки.\n",
    "\n",
    "Посмотрим на несколько примеров."
   ]
  },
  {
   "cell_type": "code",
   "execution_count": null,
   "metadata": {
    "collapsed": false
   },
   "outputs": [],
   "source": [
    "print(12, 12, sep=\":\", end=\"\")\n",
    "print(45, 23)"
   ]
  },
  {
   "cell_type": "code",
   "execution_count": null,
   "metadata": {
    "collapsed": false
   },
   "outputs": [],
   "source": [
    "print(1, 2, 3, sep=\", \", end=\"!\")     # sep и end могут быть не односимвольными"
   ]
  },
  {
   "cell_type": "markdown",
   "metadata": {},
   "source": [
    "Заметим, что по стилю PEP8 после запятой ставится ровно один проблел, а перед --- ничего не ставится"
   ]
  },
  {
   "cell_type": "markdown",
   "metadata": {},
   "source": [
    "# 11. Import"
   ]
  },
  {
   "cell_type": "markdown",
   "metadata": {},
   "source": [
    "Иногда нам хочется использовать какие-то дополнительные функции, которые по умолчанию не встроены в интерпретатор.\n",
    "Для этого люди пишут программы, называемые <b> библиотеками (модулями) </b>, которые содержат часто используемые функции, не встроенные в интерпретатор."
   ]
  },
  {
   "cell_type": "markdown",
   "metadata": {},
   "source": [
    "Например, нам хочется поделить число $n$ на некоторое $k$ и округлить его вверх. То есть, например, 2.5 округлить до 3."
   ]
  },
  {
   "cell_type": "code",
   "execution_count": null,
   "metadata": {
    "collapsed": false
   },
   "outputs": [],
   "source": [
    "from math import ceil\n",
    "n, k = [int(i) for i in input().split()]\n",
    "print(n / k)\n",
    "print(ceil(n / k))"
   ]
  },
  {
   "cell_type": "markdown",
   "metadata": {},
   "source": [
    "Здесь мы использовали модуль `math` и <b> импортировали </b> (взяли, получили) из него только функцию `ceil`. <br>\n",
    "Импортирование модулей всегда пишется в начале программы.\n",
    "Еще различные варианты написания:"
   ]
  },
  {
   "cell_type": "code",
   "execution_count": null,
   "metadata": {
    "collapsed": false
   },
   "outputs": [],
   "source": [
    "import math\n",
    "print(math.ceil(5 / 3))"
   ]
  },
  {
   "cell_type": "markdown",
   "metadata": {},
   "source": [
    "Здесь мы вынужденны писать <имя модуля>.<название функции> <br>\n",
    "А вот так писать совсем плохо:"
   ]
  },
  {
   "cell_type": "code",
   "execution_count": null,
   "metadata": {
    "collapsed": true
   },
   "outputs": [],
   "source": [
    "from math import *"
   ]
  },
  {
   "cell_type": "markdown",
   "metadata": {},
   "source": [
    "Такая запись означает: импортируй из `math` <b> все, что там есть </b>. Чем это плохо?"
   ]
  },
  {
   "cell_type": "markdown",
   "metadata": {},
   "source": [
    "Во-первых, это плохо, потому что имена функций в разных модулях могут пересекаться, что может привести в неожиданному для вас поведению программы. Во-вторых, это плохо, потому что если модуль оочень большой, то функции из него будут оочень долго импортироваться. А так как язык интерпретируемый, то это все будет происходить по время работы программы, а следовательно программа будет работать медленнее, чем хотелось бы. Поэтому предпочтительнее всего использовать второй вариант (import math). Если вы точно уверены, что пересечений имен не будет, то можете использовать первый вариант."
   ]
  },
  {
   "cell_type": "markdown",
   "metadata": {},
   "source": [
    "Приведем еще примеры модулей и функций из них:"
   ]
  },
  {
   "cell_type": "code",
   "execution_count": null,
   "metadata": {
    "collapsed": false
   },
   "outputs": [],
   "source": [
    "from math import sqrt\n",
    "from math import floor\n",
    "\n",
    "from random import randrange\n",
    "from random import choice\n",
    "\n",
    "print(sqrt(4), sqrt(9))     # квадратный корень из неотрицательного числа\n",
    "print(4 / 3, floor(4 / 3))  # округление вниз\n",
    "\n",
    "print(randrange(2, 10, 2))  # рандомноe число из последовательности (begin, end, step)\n",
    "print(choice([4, 8, 2, 7])) # рандомное число из переданной последовательности\n",
    "print(choice(\"asd\"))\n",
    "print(choice((-3, -7, -2)))"
   ]
  },
  {
   "cell_type": "code",
   "execution_count": null,
   "metadata": {
    "collapsed": false
   },
   "outputs": [],
   "source": [
    "from math import sqrt\n",
    "\n",
    "print(sqrt(-1))             # заметим, что здесь будет ошибка, так как sqrt работает только для неотрицательных чисел"
   ]
  },
  {
   "cell_type": "markdown",
   "metadata": {},
   "source": [
    "# 12. И еще о PEP8"
   ]
  },
  {
   "cell_type": "markdown",
   "metadata": {},
   "source": [
    "* Не делайте строки длиннее, чем 79 символов. Если строка слишком большая, то разделяейте её с помощью заключения выражения в скобки:"
   ]
  },
  {
   "cell_type": "code",
   "execution_count": null,
   "metadata": {
    "collapsed": false
   },
   "outputs": [],
   "source": [
    "a = (\"sdfjsdjfksjflksjdklfjsf\" + \"sjdlfjksfgehrgldfoidg\" + \"sfsfd\" + \n",
    "     \"werwerkwer\" + \"jlsfdsdlf\")\n",
    "print(a)"
   ]
  },
  {
   "cell_type": "markdown",
   "metadata": {},
   "source": [
    "* В случае разрыва строки около бинарного оператора, оставляйте оператор на предыдущей строке:"
   ]
  },
  {
   "cell_type": "code",
   "execution_count": null,
   "metadata": {
    "collapsed": false
   },
   "outputs": [],
   "source": [
    "var = (a * b + \n",
    "       5 * c)          # правильно\n",
    "var = (a * b \n",
    "      + 5 * c)         # неправильно"
   ]
  },
  {
   "cell_type": "markdown",
   "metadata": {},
   "source": [
    "* Пишите `import` каждого модуля на отдельной строке"
   ]
  },
  {
   "cell_type": "markdown",
   "metadata": {},
   "source": [
    "* Правильно расставляйте пробелы в таких ситуациях:"
   ]
  },
  {
   "cell_type": "code",
   "execution_count": null,
   "metadata": {
    "collapsed": true
   },
   "outputs": [],
   "source": [
    "a = [ 1,3,  5 ,6 ]     # неправильно, пробел после запятой ровно 1, перед запятыми пробелы не нужны. Отступы после [ и\n",
    "                       # и перед ] тоже не нужны\n",
    "a = [1, 3, 5, 6]       # правильно\n",
    "print(a[1])            # правильно\n",
    "print(a[ 1 ])          # непраивльно, пробелы около после [ и перед ] не нужны\n",
    "print(a [1])           # неправильно, пробел перед [  не нужен\n",
    "print (a[1])           # неправильно, пробел перед (. Как и для любого вызова функции\n",
    "\n",
    "if a[1] == 1:          # правильно\n",
    "    print(\"1\")\n",
    "\n",
    "if a[1] == 1 :         # неправильно, пробелы пробел перед : не нужен\n",
    "    print(\"2\")"
   ]
  },
  {
   "cell_type": "markdown",
   "metadata": {},
   "source": [
    "* Не используйте символы `l`, `I`, `O` как имена переменных. В некоторых шрифтах они похожи на цифры."
   ]
  },
  {
   "cell_type": "markdown",
   "metadata": {},
   "source": [
    "* Нельзя использовать однобуквенные (кроме счетчиков для циклов), бессмысленные названия для имен переменных (если только в условии задачи не сказано\n",
    "явно, что задается, например, переменная `n`). Имена переменных должны состоять только из маленьких латинских букв.\n",
    "Несколько слов в имени переменной разделяются\\_символами\\_подчеркивания"
   ]
  },
  {
   "cell_type": "code",
   "execution_count": null,
   "metadata": {
    "collapsed": true
   },
   "outputs": [],
   "source": [
    "var1 = 5\n",
    "var2 = 6\n",
    "var3 = 9               # всё. очень. плохо.\n",
    "\n",
    "name = \"Vasya\"\n",
    "people_count = 23"
   ]
  },
  {
   "cell_type": "markdown",
   "metadata": {},
   "source": [
    "* Имена констант должны состоять только из заглавных букв. Несколько слов так же разделяются символами подчеркивания."
   ]
  },
  {
   "cell_type": "code",
   "execution_count": null,
   "metadata": {
    "collapsed": true
   },
   "outputs": [],
   "source": [
    "NAME = \"Andrew\"\n",
    "SCHOOL_NAME = \"LKSH\""
   ]
  },
  {
   "cell_type": "markdown",
   "metadata": {},
   "source": [
    "Кажется, на этом хватит :)"
   ]
  }
 ],
 "metadata": {
  "kernelspec": {
   "display_name": "Python 3",
   "language": "python",
   "name": "python3"
  },
  "language_info": {
   "codemirror_mode": {
    "name": "ipython",
    "version": 3
   },
   "file_extension": ".py",
   "mimetype": "text/x-python",
   "name": "python",
   "nbconvert_exporter": "python",
   "pygments_lexer": "ipython3",
   "version": "3.4.3"
  }
 },
 "nbformat": 4,
 "nbformat_minor": 0
}
