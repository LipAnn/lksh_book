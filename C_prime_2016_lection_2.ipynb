{
 "cells": [
  {
   "cell_type": "markdown",
   "metadata": {},
   "source": [
    "# Код к лекции 2"
   ]
  },
  {
   "cell_type": "markdown",
   "metadata": {},
   "source": [
    "Проверка числа на простоту за O(n)"
   ]
  },
  {
   "cell_type": "code",
   "execution_count": 1,
   "metadata": {
    "collapsed": false
   },
   "outputs": [
    {
     "name": "stdout",
     "output_type": "stream",
     "text": [
      "3\n",
      "PRIME\n"
     ]
    }
   ],
   "source": [
    "def isPrime(x):\n",
    "    if x in [0, 1]: \n",
    "        return \"COMPOSITE\"\n",
    "    \"\"\" x in [0, 1] возвращает True, если \n",
    "    x содержится в списке [0, 1], то есть \n",
    "    x = либо 0, либо 1 \"\"\"\n",
    "    for i in range(2, x):\n",
    "        if x % i == 0:\n",
    "            return \"COMPOSITE\" # простое\n",
    "    return \"PRIME\" # составное\n",
    "\n",
    "n = int(input())     \n",
    "\n",
    "print(is_prime(n))"
   ]
  },
  {
   "cell_type": "markdown",
   "metadata": {},
   "source": [
    "Оптимизированная проверка на простоту за O(n)"
   ]
  },
  {
   "cell_type": "code",
   "execution_count": 7,
   "metadata": {
    "collapsed": false
   },
   "outputs": [
    {
     "name": "stdout",
     "output_type": "stream",
     "text": [
      "4\n",
      "COMPOSITE\n"
     ]
    }
   ],
   "source": [
    "def isPrime(x):\n",
    "    prime = \"PRIME\"\n",
    "    composite = \"COMPOSITE\"\n",
    "    if x in [0, 1]: \n",
    "        return composite\n",
    "    if x == 2: # единственное простое четное\n",
    "        return prime\n",
    "    if x % 2 == 0: # отсекаем все четные числа\n",
    "        return composite\n",
    "    for i in range(3, x, 2): # теперь здесь n / 2 дейст.\n",
    "        if x % i == 0:\n",
    "            return composite # простое\n",
    "    return prime # составное\n",
    "\n",
    "n = int(input())    \n",
    "\n",
    "print(is_prime(n))"
   ]
  },
  {
   "cell_type": "markdown",
   "metadata": {},
   "source": [
    "Проверка на простоту за O(sqrt(n)) c извлечением корня"
   ]
  },
  {
   "cell_type": "code",
   "execution_count": 19,
   "metadata": {
    "collapsed": false
   },
   "outputs": [
    {
     "name": "stdout",
     "output_type": "stream",
     "text": [
      "9\n",
      "COMPOSITE\n"
     ]
    }
   ],
   "source": [
    "from math import floor\n",
    "from math import sqrt\n",
    "\n",
    "def isPrime(x):\n",
    "    prime = \"PRIME\"\n",
    "    composite = \"COMPOSITE\"\n",
    "    if x in [0, 1]: \n",
    "        return composite\n",
    "    for i in range(2, floor(sqrt(x)) + 1):\n",
    "        if x % i == 0:\n",
    "            return composite # простое\n",
    "    return prime # составное\n",
    "\n",
    "n = int(input())    \n",
    "\n",
    "print(is_prime(n))"
   ]
  },
  {
   "cell_type": "code",
   "execution_count": null,
   "metadata": {
    "collapsed": true
   },
   "outputs": [],
   "source": [
    "Проверка на простоту за O(sqrt(n)) без извлечения корня"
   ]
  },
  {
   "cell_type": "code",
   "execution_count": 37,
   "metadata": {
    "collapsed": false
   },
   "outputs": [
    {
     "name": "stdout",
     "output_type": "stream",
     "text": [
      "3\n",
      "PRIME\n"
     ]
    }
   ],
   "source": [
    "def isPrime(x):\n",
    "    prime = \"PRIME\"\n",
    "    composite = \"COMPOSITE\"\n",
    "    if x in [0, 1]: \n",
    "        return composite\n",
    "    i = 2\n",
    "    while i * i <= x:\n",
    "        if x % i == 0:\n",
    "            return composite # простое\n",
    "        i += 1\n",
    "    return prime # составное\n",
    "\n",
    "n = int(input())    \n",
    "\n",
    "print(is_prime(n))"
   ]
  },
  {
   "cell_type": "markdown",
   "metadata": {},
   "source": [
    "Эффективное нахождение самого большого и самого маленького делителя числа"
   ]
  },
  {
   "cell_type": "code",
   "execution_count": 43,
   "metadata": {
    "collapsed": false
   },
   "outputs": [
    {
     "name": "stdout",
     "output_type": "stream",
     "text": [
      "14\n",
      "MINIMAL DIVISOR IS 2\n",
      "MAXIMAL DIVISOR IS 7\n"
     ]
    }
   ],
   "source": [
    "def findMinimalDivisor(x):\n",
    "    i = 2\n",
    "    while i * i <= x:\n",
    "        if x % i == 0:\n",
    "            return i\n",
    "        i += 1\n",
    "    return 1\n",
    "\n",
    "n = int(input())\n",
    "min_divisor = find_minimal_divisor(n)\n",
    "max_divisor = n // min_divisor \n",
    "# обратите внимание на целочисленное деление\n",
    "print(\"MINIMAL DIVISOR IS %d\" % min_divisor)\n",
    "print(\"MAXIMAL DIVISOR IS %d\" % max_divisor)"
   ]
  },
  {
   "cell_type": "markdown",
   "metadata": {},
   "source": [
    "Второй вариант того же самого:"
   ]
  },
  {
   "cell_type": "code",
   "execution_count": 52,
   "metadata": {
    "collapsed": false
   },
   "outputs": [
    {
     "name": "stdout",
     "output_type": "stream",
     "text": [
      "9\n",
      "MINIMAL DIVISOR IS 3\n",
      "MAXIMAL DIVISOR IS 3\n"
     ]
    }
   ],
   "source": [
    "def findDivisors(x):\n",
    "    i = 2\n",
    "    while i * i <= x:\n",
    "        if x % i == 0:\n",
    "            return (i, x // i)\n",
    "        i += 1\n",
    "    return 1\n",
    "\n",
    "n = int(input())\n",
    "out_s = \"MINIMAL DIVISOR IS %d\\nMAXIMAL DIVISOR IS %d\"\n",
    "print(out_s % findDivisors(n))"
   ]
  },
  {
   "cell_type": "markdown",
   "metadata": {},
   "source": [
    "Разложение числа на простые множители. Взято отсюда:\n",
    "https://github.com/citxx/sis-algorithms/blob/master/factorize.py"
   ]
  },
  {
   "cell_type": "code",
   "execution_count": 25,
   "metadata": {
    "collapsed": false,
    "scrolled": true
   },
   "outputs": [
    {
     "name": "stdout",
     "output_type": "stream",
     "text": [
      "1 = 1\n",
      "2 = 2\n",
      "3 = 3\n",
      "4 = 2 * 2\n",
      "5 = 5\n",
      "6 = 2 * 3\n",
      "7 = 7\n",
      "8 = 2 * 2 * 2\n",
      "9 = 3 * 3\n",
      "10 = 2 * 5\n",
      "11 = 11\n",
      "12 = 2 * 2 * 3\n",
      "13 = 13\n",
      "14 = 2 * 7\n",
      "15 = 3 * 5\n",
      "16 = 2 * 2 * 2 * 2\n",
      "17 = 17\n",
      "18 = 2 * 3 * 3\n",
      "19 = 19\n",
      "20 = 2 * 2 * 5\n",
      "21 = 3 * 7\n",
      "22 = 2 * 11\n",
      "23 = 23\n",
      "24 = 2 * 2 * 2 * 3\n",
      "25 = 5 * 5\n",
      "26 = 2 * 13\n",
      "27 = 3 * 3 * 3\n",
      "28 = 2 * 2 * 7\n",
      "29 = 29\n",
      "30 = 2 * 3 * 5\n",
      "31 = 31\n",
      "32 = 2 * 2 * 2 * 2 * 2\n",
      "33 = 3 * 11\n",
      "34 = 2 * 17\n",
      "35 = 5 * 7\n",
      "36 = 2 * 2 * 3 * 3\n",
      "37 = 37\n",
      "38 = 2 * 19\n",
      "39 = 3 * 13\n",
      "40 = 2 * 2 * 2 * 5\n"
     ]
    }
   ],
   "source": [
    "def factorize(n):\n",
    "    factors = []\n",
    "    i = 2\n",
    "    while i * i <= n:\n",
    "        while n % i == 0:\n",
    "            n //= i\n",
    "            factors.append(i)\n",
    "        i += 1\n",
    "\n",
    "    if n != 1 or len(factors) == 0:\n",
    "        factors.append(n)\n",
    "\n",
    "    return factors\n",
    "\n",
    "\n",
    "for x in range(1, 41):\n",
    "    print(x, \"=\", \" * \".join([str(x) for x in factorize(x)]))"
   ]
  },
  {
   "cell_type": "markdown",
   "metadata": {},
   "source": [
    "Решето Эратосфена. Взято отсюда: https://github.com/citxx/sis-algorithms/blob/master/eratothenes.py"
   ]
  },
  {
   "cell_type": "code",
   "execution_count": 49,
   "metadata": {
    "collapsed": false
   },
   "outputs": [
    {
     "name": "stdout",
     "output_type": "stream",
     "text": [
      "2\n",
      "3\n",
      "5\n",
      "7\n",
      "11\n",
      "13\n",
      "17\n",
      "19\n",
      "23\n",
      "29\n"
     ]
    }
   ],
   "source": [
    "def sieve(n):\n",
    "    is_prime = [True] * (n + 1)\n",
    "    for i in range(2, n + 1):\n",
    "        if is_prime[i]:\n",
    "            for j in range(i * i, n + 1, i):\n",
    "                is_prime[j] = False\n",
    "    return is_prime\n",
    "\n",
    "\n",
    "n = 30\n",
    "is_prime = sieve(n)\n",
    "for i in range(2, n + 1):\n",
    "    if is_prime[i]:\n",
    "        print(i)"
   ]
  },
  {
   "cell_type": "markdown",
   "metadata": {},
   "source": [
    "НОД и НОК. Взято отсюда: https://github.com/citxx/sis-algorithms/blob/master/gcd.py c небольшими исправлениями"
   ]
  },
  {
   "cell_type": "code",
   "execution_count": 56,
   "metadata": {
    "collapsed": false
   },
   "outputs": [
    {
     "name": "stdout",
     "output_type": "stream",
     "text": [
      "gcd(24, 34) = 2\n",
      "lcm(12, 20) = 60\n"
     ]
    }
   ],
   "source": [
    "def gcd(a, b):\n",
    "    while b != 0:\n",
    "        a, b = b, a % b\n",
    "    return a\n",
    "\n",
    "\n",
    "def lcm(a, b):\n",
    "    return a * b // gcd(a, b)\n",
    "\n",
    "\n",
    "print(\"gcd(24, 34) =\", gcd(24, 34))\n",
    "print(\"lcm(12, 20) =\", lcm(12, 20))"
   ]
  },
  {
   "cell_type": "markdown",
   "metadata": {},
   "source": [
    "Подсчет последней цифры числа в большой степени"
   ]
  },
  {
   "cell_type": "code",
   "execution_count": 62,
   "metadata": {
    "collapsed": false
   },
   "outputs": [
    {
     "name": "stdout",
     "output_type": "stream",
     "text": [
      "2 4\n",
      "6\n"
     ]
    }
   ],
   "source": [
    "def lastNumber(n, k):\n",
    "    if k == 0:\n",
    "        return 1\n",
    "    r = n % 10\n",
    "    last_number = r\n",
    "    for i in range(k - 1):\n",
    "        last_number *= r\n",
    "        last_number %= 10\n",
    "    return last_number\n",
    "\n",
    "n, k = [int(i) for i in input().split()]\n",
    "print(lastNumber(n, k))"
   ]
  },
  {
   "cell_type": "code",
   "execution_count": null,
   "metadata": {
    "collapsed": true
   },
   "outputs": [],
   "source": []
  }
 ],
 "metadata": {
  "kernelspec": {
   "display_name": "Python 3",
   "language": "python",
   "name": "python3"
  },
  "language_info": {
   "codemirror_mode": {
    "name": "ipython",
    "version": 3
   },
   "file_extension": ".py",
   "mimetype": "text/x-python",
   "name": "python",
   "nbconvert_exporter": "python",
   "pygments_lexer": "ipython3",
   "version": "3.4.3"
  }
 },
 "nbformat": 4,
 "nbformat_minor": 0
}
