{
 "cells": [
  {
   "cell_type": "markdown",
   "metadata": {},
   "source": [
    "# Код к лекции 2"
   ]
  },
  {
   "cell_type": "markdown",
   "metadata": {},
   "source": [
    "Проверка числа на простоту за $O(n)$"
   ]
  },
  {
   "cell_type": "code",
   "execution_count": 1,
   "metadata": {
    "collapsed": false
   },
   "outputs": [
    {
     "name": "stdout",
     "output_type": "stream",
     "text": [
      "3\n",
      "PRIME\n"
     ]
    }
   ],
   "source": [
    "def is_prime(x):\n",
    "    if x in [0, 1]: \n",
    "        return \"COMPOSITE\"\n",
    "    \"\"\" x in [0, 1] возвращает True, если \n",
    "    x содержится в списке [0, 1], то есть \n",
    "    x = либо 0, либо 1 \"\"\"\n",
    "    for i in range(2, x):\n",
    "        if x % i == 0:\n",
    "            return \"COMPOSITE\" # простое\n",
    "    return \"PRIME\" # составное\n",
    "\n",
    "n = int(input())     \n",
    "\n",
    "print(is_prime(n))"
   ]
  },
  {
   "cell_type": "markdown",
   "metadata": {},
   "source": [
    "Оптимизированная проверка на простоту за $O(n)$"
   ]
  },
  {
   "cell_type": "code",
   "execution_count": 7,
   "metadata": {
    "collapsed": false
   },
   "outputs": [
    {
     "name": "stdout",
     "output_type": "stream",
     "text": [
      "4\n",
      "COMPOSITE\n"
     ]
    }
   ],
   "source": [
    "def is_prime(x):\n",
    "    prime = \"PRIME\"\n",
    "    composite = \"COMPOSITE\"\n",
    "    if x in [0, 1]: \n",
    "        return composite\n",
    "    if x == 2: # единственное простое четное\n",
    "        return prime\n",
    "    if x % 2 == 0: # отсекаем все четные числа\n",
    "        return composite\n",
    "    for i in range(3, x, 2): # теперь здесь n / 2 дейст.\n",
    "        if x % i == 0:\n",
    "            return composite # простое\n",
    "    return prime # составное\n",
    "\n",
    "n = int(input())    \n",
    "\n",
    "print(is_prime(n))"
   ]
  },
  {
   "cell_type": "markdown",
   "metadata": {},
   "source": [
    "Проверка на простоту за $O(\\sqrt{n})$"
   ]
  },
  {
   "cell_type": "code",
   "execution_count": 19,
   "metadata": {
    "collapsed": false
   },
   "outputs": [
    {
     "name": "stdout",
     "output_type": "stream",
     "text": [
      "9\n",
      "COMPOSITE\n"
     ]
    }
   ],
   "source": [
    "from math import floor\n",
    "from math import sqrt\n",
    "\n",
    "def is_prime(x):\n",
    "    prime = \"PRIME\"\n",
    "    composite = \"COMPOSITE\"\n",
    "    if x in [0, 1]: \n",
    "        return composite\n",
    "    for i in range(2, floor(sqrt(x)) + 1):\n",
    "        if x % i == 0:\n",
    "            return composite # простое\n",
    "    return prime # составное\n",
    "\n",
    "n = int(input())    \n",
    "\n",
    "print(is_prime(n))"
   ]
  },
  {
   "cell_type": "code",
   "execution_count": null,
   "metadata": {
    "collapsed": true
   },
   "outputs": [],
   "source": []
  }
 ],
 "metadata": {
  "kernelspec": {
   "display_name": "Python 3",
   "language": "python",
   "name": "python3"
  },
  "language_info": {
   "codemirror_mode": {
    "name": "ipython",
    "version": 3
   },
   "file_extension": ".py",
   "mimetype": "text/x-python",
   "name": "python",
   "nbconvert_exporter": "python",
   "pygments_lexer": "ipython3",
   "version": "3.4.3"
  }
 },
 "nbformat": 4,
 "nbformat_minor": 0
}
